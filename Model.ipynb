{
  "cells": [
    {
      "cell_type": "code",
      "execution_count": null,
      "metadata": {
        "id": "6FRdMeedt4K5"
      },
      "outputs": [],
      "source": [
        "import pandas as pd\n",
        "import numpy as np\n",
        "import matplotlib.pyplot as plt\n",
        "import seaborn as sns\n",
        "from sklearn.model_selection import train_test_split,cross_val_score,GridSearchCV, StratifiedKFold\n",
        "from sklearn.metrics import accuracy_score,confusion_matrix,classification_report, f1_score\n",
        "from sklearn.preprocessing import StandardScaler\n",
        "from sklearn.linear_model import LogisticRegression\n",
        "from sklearn.neighbors import KNeighborsClassifier\n",
        "from sklearn.ensemble import RandomForestClassifier\n",
        "from sklearn.svm import SVC\n",
        "from sklearn.pipeline import Pipeline\n",
        "from sklearn.decomposition import PCA\n",
        "from scipy.stats import zscore\n",
        "%matplotlib inline"
      ]
    },
    {
      "cell_type": "code",
      "execution_count": null,
      "metadata": {
        "colab": {
          "base_uri": "https://localhost:8080/"
        },
        "id": "HUC0wuHhvdGX",
        "outputId": "92f4c853-32f3-4b80-8f61-a3fa1004e06b"
      },
      "outputs": [
        {
          "name": "stdout",
          "output_type": "stream",
          "text": [
            "Drive already mounted at /content/drive; to attempt to forcibly remount, call drive.mount(\"/content/drive\", force_remount=True).\n"
          ]
        }
      ],
      "source": [
        "from google.colab import drive\n",
        "drive.mount('/content/drive')"
      ]
    },
    {
      "cell_type": "code",
      "execution_count": null,
      "metadata": {
        "id": "b8PpP4U-vZP5"
      },
      "outputs": [],
      "source": [
        "train = pd.read_csv('/content/drive/MyDrive/Colab Notebooks/Kaggle/Santander/train.csv')\n",
        "test = pd.read_csv('/content/drive/MyDrive/Colab Notebooks/Kaggle/Santander/test.csv')"
      ]
    },
    {
      "cell_type": "markdown",
      "metadata": {
        "id": "9rz8Ybsb_NAi"
      },
      "source": [
        "##1.1. Exploring the dataset"
      ]
    },
    {
      "cell_type": "code",
      "execution_count": null,
      "metadata": {
        "colab": {
          "base_uri": "https://localhost:8080/",
          "height": 300
        },
        "id": "DrEob5Ukvnm5",
        "outputId": "11b90f46-2776-4f95-c125-26570da29392"
      },
      "outputs": [
        {
          "data": {
            "text/html": [
              "\n",
              "  <div id=\"df-792509ab-399c-449d-a060-dc672bab9b92\">\n",
              "    <div class=\"colab-df-container\">\n",
              "      <div>\n",
              "<style scoped>\n",
              "    .dataframe tbody tr th:only-of-type {\n",
              "        vertical-align: middle;\n",
              "    }\n",
              "\n",
              "    .dataframe tbody tr th {\n",
              "        vertical-align: top;\n",
              "    }\n",
              "\n",
              "    .dataframe thead th {\n",
              "        text-align: right;\n",
              "    }\n",
              "</style>\n",
              "<table border=\"1\" class=\"dataframe\">\n",
              "  <thead>\n",
              "    <tr style=\"text-align: right;\">\n",
              "      <th></th>\n",
              "      <th>ID_code</th>\n",
              "      <th>target</th>\n",
              "      <th>var_0</th>\n",
              "      <th>var_1</th>\n",
              "      <th>var_2</th>\n",
              "      <th>var_3</th>\n",
              "      <th>var_4</th>\n",
              "      <th>var_5</th>\n",
              "      <th>var_6</th>\n",
              "      <th>var_7</th>\n",
              "      <th>...</th>\n",
              "      <th>var_190</th>\n",
              "      <th>var_191</th>\n",
              "      <th>var_192</th>\n",
              "      <th>var_193</th>\n",
              "      <th>var_194</th>\n",
              "      <th>var_195</th>\n",
              "      <th>var_196</th>\n",
              "      <th>var_197</th>\n",
              "      <th>var_198</th>\n",
              "      <th>var_199</th>\n",
              "    </tr>\n",
              "  </thead>\n",
              "  <tbody>\n",
              "    <tr>\n",
              "      <th>0</th>\n",
              "      <td>train_0</td>\n",
              "      <td>0</td>\n",
              "      <td>8.9255</td>\n",
              "      <td>-6.7863</td>\n",
              "      <td>11.9081</td>\n",
              "      <td>5.0930</td>\n",
              "      <td>11.4607</td>\n",
              "      <td>-9.2834</td>\n",
              "      <td>5.1187</td>\n",
              "      <td>18.6266</td>\n",
              "      <td>...</td>\n",
              "      <td>4.4354</td>\n",
              "      <td>3.9642</td>\n",
              "      <td>3.1364</td>\n",
              "      <td>1.6910</td>\n",
              "      <td>18.5227</td>\n",
              "      <td>-2.3978</td>\n",
              "      <td>7.8784</td>\n",
              "      <td>8.5635</td>\n",
              "      <td>12.7803</td>\n",
              "      <td>-1.0914</td>\n",
              "    </tr>\n",
              "    <tr>\n",
              "      <th>1</th>\n",
              "      <td>train_1</td>\n",
              "      <td>0</td>\n",
              "      <td>11.5006</td>\n",
              "      <td>-4.1473</td>\n",
              "      <td>13.8588</td>\n",
              "      <td>5.3890</td>\n",
              "      <td>12.3622</td>\n",
              "      <td>7.0433</td>\n",
              "      <td>5.6208</td>\n",
              "      <td>16.5338</td>\n",
              "      <td>...</td>\n",
              "      <td>7.6421</td>\n",
              "      <td>7.7214</td>\n",
              "      <td>2.5837</td>\n",
              "      <td>10.9516</td>\n",
              "      <td>15.4305</td>\n",
              "      <td>2.0339</td>\n",
              "      <td>8.1267</td>\n",
              "      <td>8.7889</td>\n",
              "      <td>18.3560</td>\n",
              "      <td>1.9518</td>\n",
              "    </tr>\n",
              "    <tr>\n",
              "      <th>2</th>\n",
              "      <td>train_2</td>\n",
              "      <td>0</td>\n",
              "      <td>8.6093</td>\n",
              "      <td>-2.7457</td>\n",
              "      <td>12.0805</td>\n",
              "      <td>7.8928</td>\n",
              "      <td>10.5825</td>\n",
              "      <td>-9.0837</td>\n",
              "      <td>6.9427</td>\n",
              "      <td>14.6155</td>\n",
              "      <td>...</td>\n",
              "      <td>2.9057</td>\n",
              "      <td>9.7905</td>\n",
              "      <td>1.6704</td>\n",
              "      <td>1.6858</td>\n",
              "      <td>21.6042</td>\n",
              "      <td>3.1417</td>\n",
              "      <td>-6.5213</td>\n",
              "      <td>8.2675</td>\n",
              "      <td>14.7222</td>\n",
              "      <td>0.3965</td>\n",
              "    </tr>\n",
              "    <tr>\n",
              "      <th>3</th>\n",
              "      <td>train_3</td>\n",
              "      <td>0</td>\n",
              "      <td>11.0604</td>\n",
              "      <td>-2.1518</td>\n",
              "      <td>8.9522</td>\n",
              "      <td>7.1957</td>\n",
              "      <td>12.5846</td>\n",
              "      <td>-1.8361</td>\n",
              "      <td>5.8428</td>\n",
              "      <td>14.9250</td>\n",
              "      <td>...</td>\n",
              "      <td>4.4666</td>\n",
              "      <td>4.7433</td>\n",
              "      <td>0.7178</td>\n",
              "      <td>1.4214</td>\n",
              "      <td>23.0347</td>\n",
              "      <td>-1.2706</td>\n",
              "      <td>-2.9275</td>\n",
              "      <td>10.2922</td>\n",
              "      <td>17.9697</td>\n",
              "      <td>-8.9996</td>\n",
              "    </tr>\n",
              "    <tr>\n",
              "      <th>4</th>\n",
              "      <td>train_4</td>\n",
              "      <td>0</td>\n",
              "      <td>9.8369</td>\n",
              "      <td>-1.4834</td>\n",
              "      <td>12.8746</td>\n",
              "      <td>6.6375</td>\n",
              "      <td>12.2772</td>\n",
              "      <td>2.4486</td>\n",
              "      <td>5.9405</td>\n",
              "      <td>19.2514</td>\n",
              "      <td>...</td>\n",
              "      <td>-1.4905</td>\n",
              "      <td>9.5214</td>\n",
              "      <td>-0.1508</td>\n",
              "      <td>9.1942</td>\n",
              "      <td>13.2876</td>\n",
              "      <td>-1.5121</td>\n",
              "      <td>3.9267</td>\n",
              "      <td>9.5031</td>\n",
              "      <td>17.9974</td>\n",
              "      <td>-8.8104</td>\n",
              "    </tr>\n",
              "  </tbody>\n",
              "</table>\n",
              "<p>5 rows × 202 columns</p>\n",
              "</div>\n",
              "      <button class=\"colab-df-convert\" onclick=\"convertToInteractive('df-792509ab-399c-449d-a060-dc672bab9b92')\"\n",
              "              title=\"Convert this dataframe to an interactive table.\"\n",
              "              style=\"display:none;\">\n",
              "        \n",
              "  <svg xmlns=\"http://www.w3.org/2000/svg\" height=\"24px\"viewBox=\"0 0 24 24\"\n",
              "       width=\"24px\">\n",
              "    <path d=\"M0 0h24v24H0V0z\" fill=\"none\"/>\n",
              "    <path d=\"M18.56 5.44l.94 2.06.94-2.06 2.06-.94-2.06-.94-.94-2.06-.94 2.06-2.06.94zm-11 1L8.5 8.5l.94-2.06 2.06-.94-2.06-.94L8.5 2.5l-.94 2.06-2.06.94zm10 10l.94 2.06.94-2.06 2.06-.94-2.06-.94-.94-2.06-.94 2.06-2.06.94z\"/><path d=\"M17.41 7.96l-1.37-1.37c-.4-.4-.92-.59-1.43-.59-.52 0-1.04.2-1.43.59L10.3 9.45l-7.72 7.72c-.78.78-.78 2.05 0 2.83L4 21.41c.39.39.9.59 1.41.59.51 0 1.02-.2 1.41-.59l7.78-7.78 2.81-2.81c.8-.78.8-2.07 0-2.86zM5.41 20L4 18.59l7.72-7.72 1.47 1.35L5.41 20z\"/>\n",
              "  </svg>\n",
              "      </button>\n",
              "      \n",
              "  <style>\n",
              "    .colab-df-container {\n",
              "      display:flex;\n",
              "      flex-wrap:wrap;\n",
              "      gap: 12px;\n",
              "    }\n",
              "\n",
              "    .colab-df-convert {\n",
              "      background-color: #E8F0FE;\n",
              "      border: none;\n",
              "      border-radius: 50%;\n",
              "      cursor: pointer;\n",
              "      display: none;\n",
              "      fill: #1967D2;\n",
              "      height: 32px;\n",
              "      padding: 0 0 0 0;\n",
              "      width: 32px;\n",
              "    }\n",
              "\n",
              "    .colab-df-convert:hover {\n",
              "      background-color: #E2EBFA;\n",
              "      box-shadow: 0px 1px 2px rgba(60, 64, 67, 0.3), 0px 1px 3px 1px rgba(60, 64, 67, 0.15);\n",
              "      fill: #174EA6;\n",
              "    }\n",
              "\n",
              "    [theme=dark] .colab-df-convert {\n",
              "      background-color: #3B4455;\n",
              "      fill: #D2E3FC;\n",
              "    }\n",
              "\n",
              "    [theme=dark] .colab-df-convert:hover {\n",
              "      background-color: #434B5C;\n",
              "      box-shadow: 0px 1px 3px 1px rgba(0, 0, 0, 0.15);\n",
              "      filter: drop-shadow(0px 1px 2px rgba(0, 0, 0, 0.3));\n",
              "      fill: #FFFFFF;\n",
              "    }\n",
              "  </style>\n",
              "\n",
              "      <script>\n",
              "        const buttonEl =\n",
              "          document.querySelector('#df-792509ab-399c-449d-a060-dc672bab9b92 button.colab-df-convert');\n",
              "        buttonEl.style.display =\n",
              "          google.colab.kernel.accessAllowed ? 'block' : 'none';\n",
              "\n",
              "        async function convertToInteractive(key) {\n",
              "          const element = document.querySelector('#df-792509ab-399c-449d-a060-dc672bab9b92');\n",
              "          const dataTable =\n",
              "            await google.colab.kernel.invokeFunction('convertToInteractive',\n",
              "                                                     [key], {});\n",
              "          if (!dataTable) return;\n",
              "\n",
              "          const docLinkHtml = 'Like what you see? Visit the ' +\n",
              "            '<a target=\"_blank\" href=https://colab.research.google.com/notebooks/data_table.ipynb>data table notebook</a>'\n",
              "            + ' to learn more about interactive tables.';\n",
              "          element.innerHTML = '';\n",
              "          dataTable['output_type'] = 'display_data';\n",
              "          await google.colab.output.renderOutput(dataTable, element);\n",
              "          const docLink = document.createElement('div');\n",
              "          docLink.innerHTML = docLinkHtml;\n",
              "          element.appendChild(docLink);\n",
              "        }\n",
              "      </script>\n",
              "    </div>\n",
              "  </div>\n",
              "  "
            ],
            "text/plain": [
              "   ID_code  target    var_0   var_1    var_2   var_3    var_4   var_5   var_6  \\\n",
              "0  train_0       0   8.9255 -6.7863  11.9081  5.0930  11.4607 -9.2834  5.1187   \n",
              "1  train_1       0  11.5006 -4.1473  13.8588  5.3890  12.3622  7.0433  5.6208   \n",
              "2  train_2       0   8.6093 -2.7457  12.0805  7.8928  10.5825 -9.0837  6.9427   \n",
              "3  train_3       0  11.0604 -2.1518   8.9522  7.1957  12.5846 -1.8361  5.8428   \n",
              "4  train_4       0   9.8369 -1.4834  12.8746  6.6375  12.2772  2.4486  5.9405   \n",
              "\n",
              "     var_7  ...  var_190  var_191  var_192  var_193  var_194  var_195  \\\n",
              "0  18.6266  ...   4.4354   3.9642   3.1364   1.6910  18.5227  -2.3978   \n",
              "1  16.5338  ...   7.6421   7.7214   2.5837  10.9516  15.4305   2.0339   \n",
              "2  14.6155  ...   2.9057   9.7905   1.6704   1.6858  21.6042   3.1417   \n",
              "3  14.9250  ...   4.4666   4.7433   0.7178   1.4214  23.0347  -1.2706   \n",
              "4  19.2514  ...  -1.4905   9.5214  -0.1508   9.1942  13.2876  -1.5121   \n",
              "\n",
              "   var_196  var_197  var_198  var_199  \n",
              "0   7.8784   8.5635  12.7803  -1.0914  \n",
              "1   8.1267   8.7889  18.3560   1.9518  \n",
              "2  -6.5213   8.2675  14.7222   0.3965  \n",
              "3  -2.9275  10.2922  17.9697  -8.9996  \n",
              "4   3.9267   9.5031  17.9974  -8.8104  \n",
              "\n",
              "[5 rows x 202 columns]"
            ]
          },
          "execution_count": 4,
          "metadata": {},
          "output_type": "execute_result"
        }
      ],
      "source": [
        "train.head()"
      ]
    },
    {
      "cell_type": "markdown",
      "metadata": {
        "id": "dDYBmHC3v43N"
      },
      "source": [
        "All the variables seem to be transformed. Visually, it is also observed that all variables are normally distributed. "
      ]
    },
    {
      "cell_type": "code",
      "execution_count": null,
      "metadata": {
        "colab": {
          "base_uri": "https://localhost:8080/",
          "height": 394
        },
        "id": "l9Y-1ArCw3UL",
        "outputId": "951bc65a-9c51-4151-b875-bad45d149b8b"
      },
      "outputs": [
        {
          "data": {
            "text/html": [
              "\n",
              "  <div id=\"df-f232b9a9-3ea2-4d3a-8399-ed4f1aa93f7a\">\n",
              "    <div class=\"colab-df-container\">\n",
              "      <div>\n",
              "<style scoped>\n",
              "    .dataframe tbody tr th:only-of-type {\n",
              "        vertical-align: middle;\n",
              "    }\n",
              "\n",
              "    .dataframe tbody tr th {\n",
              "        vertical-align: top;\n",
              "    }\n",
              "\n",
              "    .dataframe thead th {\n",
              "        text-align: right;\n",
              "    }\n",
              "</style>\n",
              "<table border=\"1\" class=\"dataframe\">\n",
              "  <thead>\n",
              "    <tr style=\"text-align: right;\">\n",
              "      <th></th>\n",
              "      <th>target</th>\n",
              "      <th>var_0</th>\n",
              "      <th>var_1</th>\n",
              "      <th>var_2</th>\n",
              "      <th>var_3</th>\n",
              "      <th>var_4</th>\n",
              "      <th>var_5</th>\n",
              "      <th>var_6</th>\n",
              "      <th>var_7</th>\n",
              "      <th>var_8</th>\n",
              "      <th>...</th>\n",
              "      <th>var_190</th>\n",
              "      <th>var_191</th>\n",
              "      <th>var_192</th>\n",
              "      <th>var_193</th>\n",
              "      <th>var_194</th>\n",
              "      <th>var_195</th>\n",
              "      <th>var_196</th>\n",
              "      <th>var_197</th>\n",
              "      <th>var_198</th>\n",
              "      <th>var_199</th>\n",
              "    </tr>\n",
              "  </thead>\n",
              "  <tbody>\n",
              "    <tr>\n",
              "      <th>count</th>\n",
              "      <td>200000.000000</td>\n",
              "      <td>200000.000000</td>\n",
              "      <td>200000.000000</td>\n",
              "      <td>200000.000000</td>\n",
              "      <td>200000.000000</td>\n",
              "      <td>200000.000000</td>\n",
              "      <td>200000.000000</td>\n",
              "      <td>200000.000000</td>\n",
              "      <td>200000.000000</td>\n",
              "      <td>200000.000000</td>\n",
              "      <td>...</td>\n",
              "      <td>200000.000000</td>\n",
              "      <td>200000.000000</td>\n",
              "      <td>200000.000000</td>\n",
              "      <td>200000.000000</td>\n",
              "      <td>200000.000000</td>\n",
              "      <td>200000.000000</td>\n",
              "      <td>200000.000000</td>\n",
              "      <td>200000.000000</td>\n",
              "      <td>200000.000000</td>\n",
              "      <td>200000.000000</td>\n",
              "    </tr>\n",
              "    <tr>\n",
              "      <th>mean</th>\n",
              "      <td>0.100490</td>\n",
              "      <td>10.679914</td>\n",
              "      <td>-1.627622</td>\n",
              "      <td>10.715192</td>\n",
              "      <td>6.796529</td>\n",
              "      <td>11.078333</td>\n",
              "      <td>-5.065317</td>\n",
              "      <td>5.408949</td>\n",
              "      <td>16.545850</td>\n",
              "      <td>0.284162</td>\n",
              "      <td>...</td>\n",
              "      <td>3.234440</td>\n",
              "      <td>7.438408</td>\n",
              "      <td>1.927839</td>\n",
              "      <td>3.331774</td>\n",
              "      <td>17.993784</td>\n",
              "      <td>-0.142088</td>\n",
              "      <td>2.303335</td>\n",
              "      <td>8.908158</td>\n",
              "      <td>15.870720</td>\n",
              "      <td>-3.326537</td>\n",
              "    </tr>\n",
              "    <tr>\n",
              "      <th>std</th>\n",
              "      <td>0.300653</td>\n",
              "      <td>3.040051</td>\n",
              "      <td>4.050044</td>\n",
              "      <td>2.640894</td>\n",
              "      <td>2.043319</td>\n",
              "      <td>1.623150</td>\n",
              "      <td>7.863267</td>\n",
              "      <td>0.866607</td>\n",
              "      <td>3.418076</td>\n",
              "      <td>3.332634</td>\n",
              "      <td>...</td>\n",
              "      <td>4.559922</td>\n",
              "      <td>3.023272</td>\n",
              "      <td>1.478423</td>\n",
              "      <td>3.992030</td>\n",
              "      <td>3.135162</td>\n",
              "      <td>1.429372</td>\n",
              "      <td>5.454369</td>\n",
              "      <td>0.921625</td>\n",
              "      <td>3.010945</td>\n",
              "      <td>10.438015</td>\n",
              "    </tr>\n",
              "    <tr>\n",
              "      <th>min</th>\n",
              "      <td>0.000000</td>\n",
              "      <td>0.408400</td>\n",
              "      <td>-15.043400</td>\n",
              "      <td>2.117100</td>\n",
              "      <td>-0.040200</td>\n",
              "      <td>5.074800</td>\n",
              "      <td>-32.562600</td>\n",
              "      <td>2.347300</td>\n",
              "      <td>5.349700</td>\n",
              "      <td>-10.505500</td>\n",
              "      <td>...</td>\n",
              "      <td>-14.093300</td>\n",
              "      <td>-2.691700</td>\n",
              "      <td>-3.814500</td>\n",
              "      <td>-11.783400</td>\n",
              "      <td>8.694400</td>\n",
              "      <td>-5.261000</td>\n",
              "      <td>-14.209600</td>\n",
              "      <td>5.960600</td>\n",
              "      <td>6.299300</td>\n",
              "      <td>-38.852800</td>\n",
              "    </tr>\n",
              "    <tr>\n",
              "      <th>25%</th>\n",
              "      <td>0.000000</td>\n",
              "      <td>8.453850</td>\n",
              "      <td>-4.740025</td>\n",
              "      <td>8.722475</td>\n",
              "      <td>5.254075</td>\n",
              "      <td>9.883175</td>\n",
              "      <td>-11.200350</td>\n",
              "      <td>4.767700</td>\n",
              "      <td>13.943800</td>\n",
              "      <td>-2.317800</td>\n",
              "      <td>...</td>\n",
              "      <td>-0.058825</td>\n",
              "      <td>5.157400</td>\n",
              "      <td>0.889775</td>\n",
              "      <td>0.584600</td>\n",
              "      <td>15.629800</td>\n",
              "      <td>-1.170700</td>\n",
              "      <td>-1.946925</td>\n",
              "      <td>8.252800</td>\n",
              "      <td>13.829700</td>\n",
              "      <td>-11.208475</td>\n",
              "    </tr>\n",
              "    <tr>\n",
              "      <th>50%</th>\n",
              "      <td>0.000000</td>\n",
              "      <td>10.524750</td>\n",
              "      <td>-1.608050</td>\n",
              "      <td>10.580000</td>\n",
              "      <td>6.825000</td>\n",
              "      <td>11.108250</td>\n",
              "      <td>-4.833150</td>\n",
              "      <td>5.385100</td>\n",
              "      <td>16.456800</td>\n",
              "      <td>0.393700</td>\n",
              "      <td>...</td>\n",
              "      <td>3.203600</td>\n",
              "      <td>7.347750</td>\n",
              "      <td>1.901300</td>\n",
              "      <td>3.396350</td>\n",
              "      <td>17.957950</td>\n",
              "      <td>-0.172700</td>\n",
              "      <td>2.408900</td>\n",
              "      <td>8.888200</td>\n",
              "      <td>15.934050</td>\n",
              "      <td>-2.819550</td>\n",
              "    </tr>\n",
              "    <tr>\n",
              "      <th>75%</th>\n",
              "      <td>0.000000</td>\n",
              "      <td>12.758200</td>\n",
              "      <td>1.358625</td>\n",
              "      <td>12.516700</td>\n",
              "      <td>8.324100</td>\n",
              "      <td>12.261125</td>\n",
              "      <td>0.924800</td>\n",
              "      <td>6.003000</td>\n",
              "      <td>19.102900</td>\n",
              "      <td>2.937900</td>\n",
              "      <td>...</td>\n",
              "      <td>6.406200</td>\n",
              "      <td>9.512525</td>\n",
              "      <td>2.949500</td>\n",
              "      <td>6.205800</td>\n",
              "      <td>20.396525</td>\n",
              "      <td>0.829600</td>\n",
              "      <td>6.556725</td>\n",
              "      <td>9.593300</td>\n",
              "      <td>18.064725</td>\n",
              "      <td>4.836800</td>\n",
              "    </tr>\n",
              "    <tr>\n",
              "      <th>max</th>\n",
              "      <td>1.000000</td>\n",
              "      <td>20.315000</td>\n",
              "      <td>10.376800</td>\n",
              "      <td>19.353000</td>\n",
              "      <td>13.188300</td>\n",
              "      <td>16.671400</td>\n",
              "      <td>17.251600</td>\n",
              "      <td>8.447700</td>\n",
              "      <td>27.691800</td>\n",
              "      <td>10.151300</td>\n",
              "      <td>...</td>\n",
              "      <td>18.440900</td>\n",
              "      <td>16.716500</td>\n",
              "      <td>8.402400</td>\n",
              "      <td>18.281800</td>\n",
              "      <td>27.928800</td>\n",
              "      <td>4.272900</td>\n",
              "      <td>18.321500</td>\n",
              "      <td>12.000400</td>\n",
              "      <td>26.079100</td>\n",
              "      <td>28.500700</td>\n",
              "    </tr>\n",
              "  </tbody>\n",
              "</table>\n",
              "<p>8 rows × 201 columns</p>\n",
              "</div>\n",
              "      <button class=\"colab-df-convert\" onclick=\"convertToInteractive('df-f232b9a9-3ea2-4d3a-8399-ed4f1aa93f7a')\"\n",
              "              title=\"Convert this dataframe to an interactive table.\"\n",
              "              style=\"display:none;\">\n",
              "        \n",
              "  <svg xmlns=\"http://www.w3.org/2000/svg\" height=\"24px\"viewBox=\"0 0 24 24\"\n",
              "       width=\"24px\">\n",
              "    <path d=\"M0 0h24v24H0V0z\" fill=\"none\"/>\n",
              "    <path d=\"M18.56 5.44l.94 2.06.94-2.06 2.06-.94-2.06-.94-.94-2.06-.94 2.06-2.06.94zm-11 1L8.5 8.5l.94-2.06 2.06-.94-2.06-.94L8.5 2.5l-.94 2.06-2.06.94zm10 10l.94 2.06.94-2.06 2.06-.94-2.06-.94-.94-2.06-.94 2.06-2.06.94z\"/><path d=\"M17.41 7.96l-1.37-1.37c-.4-.4-.92-.59-1.43-.59-.52 0-1.04.2-1.43.59L10.3 9.45l-7.72 7.72c-.78.78-.78 2.05 0 2.83L4 21.41c.39.39.9.59 1.41.59.51 0 1.02-.2 1.41-.59l7.78-7.78 2.81-2.81c.8-.78.8-2.07 0-2.86zM5.41 20L4 18.59l7.72-7.72 1.47 1.35L5.41 20z\"/>\n",
              "  </svg>\n",
              "      </button>\n",
              "      \n",
              "  <style>\n",
              "    .colab-df-container {\n",
              "      display:flex;\n",
              "      flex-wrap:wrap;\n",
              "      gap: 12px;\n",
              "    }\n",
              "\n",
              "    .colab-df-convert {\n",
              "      background-color: #E8F0FE;\n",
              "      border: none;\n",
              "      border-radius: 50%;\n",
              "      cursor: pointer;\n",
              "      display: none;\n",
              "      fill: #1967D2;\n",
              "      height: 32px;\n",
              "      padding: 0 0 0 0;\n",
              "      width: 32px;\n",
              "    }\n",
              "\n",
              "    .colab-df-convert:hover {\n",
              "      background-color: #E2EBFA;\n",
              "      box-shadow: 0px 1px 2px rgba(60, 64, 67, 0.3), 0px 1px 3px 1px rgba(60, 64, 67, 0.15);\n",
              "      fill: #174EA6;\n",
              "    }\n",
              "\n",
              "    [theme=dark] .colab-df-convert {\n",
              "      background-color: #3B4455;\n",
              "      fill: #D2E3FC;\n",
              "    }\n",
              "\n",
              "    [theme=dark] .colab-df-convert:hover {\n",
              "      background-color: #434B5C;\n",
              "      box-shadow: 0px 1px 3px 1px rgba(0, 0, 0, 0.15);\n",
              "      filter: drop-shadow(0px 1px 2px rgba(0, 0, 0, 0.3));\n",
              "      fill: #FFFFFF;\n",
              "    }\n",
              "  </style>\n",
              "\n",
              "      <script>\n",
              "        const buttonEl =\n",
              "          document.querySelector('#df-f232b9a9-3ea2-4d3a-8399-ed4f1aa93f7a button.colab-df-convert');\n",
              "        buttonEl.style.display =\n",
              "          google.colab.kernel.accessAllowed ? 'block' : 'none';\n",
              "\n",
              "        async function convertToInteractive(key) {\n",
              "          const element = document.querySelector('#df-f232b9a9-3ea2-4d3a-8399-ed4f1aa93f7a');\n",
              "          const dataTable =\n",
              "            await google.colab.kernel.invokeFunction('convertToInteractive',\n",
              "                                                     [key], {});\n",
              "          if (!dataTable) return;\n",
              "\n",
              "          const docLinkHtml = 'Like what you see? Visit the ' +\n",
              "            '<a target=\"_blank\" href=https://colab.research.google.com/notebooks/data_table.ipynb>data table notebook</a>'\n",
              "            + ' to learn more about interactive tables.';\n",
              "          element.innerHTML = '';\n",
              "          dataTable['output_type'] = 'display_data';\n",
              "          await google.colab.output.renderOutput(dataTable, element);\n",
              "          const docLink = document.createElement('div');\n",
              "          docLink.innerHTML = docLinkHtml;\n",
              "          element.appendChild(docLink);\n",
              "        }\n",
              "      </script>\n",
              "    </div>\n",
              "  </div>\n",
              "  "
            ],
            "text/plain": [
              "              target          var_0          var_1          var_2  \\\n",
              "count  200000.000000  200000.000000  200000.000000  200000.000000   \n",
              "mean        0.100490      10.679914      -1.627622      10.715192   \n",
              "std         0.300653       3.040051       4.050044       2.640894   \n",
              "min         0.000000       0.408400     -15.043400       2.117100   \n",
              "25%         0.000000       8.453850      -4.740025       8.722475   \n",
              "50%         0.000000      10.524750      -1.608050      10.580000   \n",
              "75%         0.000000      12.758200       1.358625      12.516700   \n",
              "max         1.000000      20.315000      10.376800      19.353000   \n",
              "\n",
              "               var_3          var_4          var_5          var_6  \\\n",
              "count  200000.000000  200000.000000  200000.000000  200000.000000   \n",
              "mean        6.796529      11.078333      -5.065317       5.408949   \n",
              "std         2.043319       1.623150       7.863267       0.866607   \n",
              "min        -0.040200       5.074800     -32.562600       2.347300   \n",
              "25%         5.254075       9.883175     -11.200350       4.767700   \n",
              "50%         6.825000      11.108250      -4.833150       5.385100   \n",
              "75%         8.324100      12.261125       0.924800       6.003000   \n",
              "max        13.188300      16.671400      17.251600       8.447700   \n",
              "\n",
              "               var_7          var_8  ...        var_190        var_191  \\\n",
              "count  200000.000000  200000.000000  ...  200000.000000  200000.000000   \n",
              "mean       16.545850       0.284162  ...       3.234440       7.438408   \n",
              "std         3.418076       3.332634  ...       4.559922       3.023272   \n",
              "min         5.349700     -10.505500  ...     -14.093300      -2.691700   \n",
              "25%        13.943800      -2.317800  ...      -0.058825       5.157400   \n",
              "50%        16.456800       0.393700  ...       3.203600       7.347750   \n",
              "75%        19.102900       2.937900  ...       6.406200       9.512525   \n",
              "max        27.691800      10.151300  ...      18.440900      16.716500   \n",
              "\n",
              "             var_192        var_193        var_194        var_195  \\\n",
              "count  200000.000000  200000.000000  200000.000000  200000.000000   \n",
              "mean        1.927839       3.331774      17.993784      -0.142088   \n",
              "std         1.478423       3.992030       3.135162       1.429372   \n",
              "min        -3.814500     -11.783400       8.694400      -5.261000   \n",
              "25%         0.889775       0.584600      15.629800      -1.170700   \n",
              "50%         1.901300       3.396350      17.957950      -0.172700   \n",
              "75%         2.949500       6.205800      20.396525       0.829600   \n",
              "max         8.402400      18.281800      27.928800       4.272900   \n",
              "\n",
              "             var_196        var_197        var_198        var_199  \n",
              "count  200000.000000  200000.000000  200000.000000  200000.000000  \n",
              "mean        2.303335       8.908158      15.870720      -3.326537  \n",
              "std         5.454369       0.921625       3.010945      10.438015  \n",
              "min       -14.209600       5.960600       6.299300     -38.852800  \n",
              "25%        -1.946925       8.252800      13.829700     -11.208475  \n",
              "50%         2.408900       8.888200      15.934050      -2.819550  \n",
              "75%         6.556725       9.593300      18.064725       4.836800  \n",
              "max        18.321500      12.000400      26.079100      28.500700  \n",
              "\n",
              "[8 rows x 201 columns]"
            ]
          },
          "execution_count": 5,
          "metadata": {},
          "output_type": "execute_result"
        }
      ],
      "source": [
        "train.describe()"
      ]
    },
    {
      "cell_type": "code",
      "execution_count": null,
      "metadata": {
        "colab": {
          "base_uri": "https://localhost:8080/"
        },
        "id": "5Iv6inyyw7kV",
        "outputId": "fce0cb0d-b72b-4bcb-bf19-86104531ab31"
      },
      "outputs": [
        {
          "name": "stdout",
          "output_type": "stream",
          "text": [
            "<class 'pandas.core.frame.DataFrame'>\n",
            "RangeIndex: 200000 entries, 0 to 199999\n",
            "Columns: 202 entries, ID_code to var_199\n",
            "dtypes: float64(200), int64(1), object(1)\n",
            "memory usage: 308.2+ MB\n"
          ]
        }
      ],
      "source": [
        "train.info()"
      ]
    },
    {
      "cell_type": "code",
      "execution_count": null,
      "metadata": {
        "colab": {
          "base_uri": "https://localhost:8080/",
          "height": 296
        },
        "id": "GJQNaPi-xWuT",
        "outputId": "0b4b7219-24f6-4a35-eb1e-531381c67fe5"
      },
      "outputs": [
        {
          "data": {
            "text/plain": [
              "<matplotlib.axes._subplots.AxesSubplot at 0x7fee21e28340>"
            ]
          },
          "execution_count": 7,
          "metadata": {},
          "output_type": "execute_result"
        },
        {
          "data": {
            "image/png": "[encoded data removed]",
            "text/plain": [
              "<Figure size 432x288 with 1 Axes>"
            ]
          },
          "metadata": {},
          "output_type": "display_data"
        }
      ],
      "source": [
        "sns.countplot(x='target',data=train)"
      ]
    },
    {
      "cell_type": "code",
      "execution_count": null,
      "metadata": {
        "id": "MKBvmP8Gv2T-"
      },
      "outputs": [],
      "source": [
        "def missing_data(data):\n",
        "    total = data.isnull().sum()\n",
        "    percent = (data.isnull().sum()/data.isnull().count()*100)\n",
        "    tt = pd.concat([total, percent], axis=1, keys=['Total', 'Percent'])\n",
        "    types = []\n",
        "    for col in data.columns:\n",
        "        dtype = str(data[col].dtype)\n",
        "        types.append(dtype)\n",
        "    tt['Types'] = types\n",
        "    return(np.transpose(tt))"
      ]
    },
    {
      "cell_type": "code",
      "execution_count": null,
      "metadata": {
        "colab": {
          "base_uri": "https://localhost:8080/",
          "height": 237
        },
        "id": "o7LpfXplYZFa",
        "outputId": "6ac22f61-8986-428f-c712-498bd259aed5"
      },
      "outputs": [
        {
          "data": {
            "text/html": [
              "\n",
              "  <div id=\"df-49abf0bc-8e95-4ef7-9d03-0242266180af\">\n",
              "    <div class=\"colab-df-container\">\n",
              "      <div>\n",
              "<style scoped>\n",
              "    .dataframe tbody tr th:only-of-type {\n",
              "        vertical-align: middle;\n",
              "    }\n",
              "\n",
              "    .dataframe tbody tr th {\n",
              "        vertical-align: top;\n",
              "    }\n",
              "\n",
              "    .dataframe thead th {\n",
              "        text-align: right;\n",
              "    }\n",
              "</style>\n",
              "<table border=\"1\" class=\"dataframe\">\n",
              "  <thead>\n",
              "    <tr style=\"text-align: right;\">\n",
              "      <th></th>\n",
              "      <th>ID_code</th>\n",
              "      <th>target</th>\n",
              "      <th>var_0</th>\n",
              "      <th>var_1</th>\n",
              "      <th>var_2</th>\n",
              "      <th>var_3</th>\n",
              "      <th>var_4</th>\n",
              "      <th>var_5</th>\n",
              "      <th>var_6</th>\n",
              "      <th>var_7</th>\n",
              "      <th>...</th>\n",
              "      <th>var_190</th>\n",
              "      <th>var_191</th>\n",
              "      <th>var_192</th>\n",
              "      <th>var_193</th>\n",
              "      <th>var_194</th>\n",
              "      <th>var_195</th>\n",
              "      <th>var_196</th>\n",
              "      <th>var_197</th>\n",
              "      <th>var_198</th>\n",
              "      <th>var_199</th>\n",
              "    </tr>\n",
              "  </thead>\n",
              "  <tbody>\n",
              "    <tr>\n",
              "      <th>Total</th>\n",
              "      <td>0</td>\n",
              "      <td>0</td>\n",
              "      <td>0</td>\n",
              "      <td>0</td>\n",
              "      <td>0</td>\n",
              "      <td>0</td>\n",
              "      <td>0</td>\n",
              "      <td>0</td>\n",
              "      <td>0</td>\n",
              "      <td>0</td>\n",
              "      <td>...</td>\n",
              "      <td>0</td>\n",
              "      <td>0</td>\n",
              "      <td>0</td>\n",
              "      <td>0</td>\n",
              "      <td>0</td>\n",
              "      <td>0</td>\n",
              "      <td>0</td>\n",
              "      <td>0</td>\n",
              "      <td>0</td>\n",
              "      <td>0</td>\n",
              "    </tr>\n",
              "    <tr>\n",
              "      <th>Percent</th>\n",
              "      <td>0.0</td>\n",
              "      <td>0.0</td>\n",
              "      <td>0.0</td>\n",
              "      <td>0.0</td>\n",
              "      <td>0.0</td>\n",
              "      <td>0.0</td>\n",
              "      <td>0.0</td>\n",
              "      <td>0.0</td>\n",
              "      <td>0.0</td>\n",
              "      <td>0.0</td>\n",
              "      <td>...</td>\n",
              "      <td>0.0</td>\n",
              "      <td>0.0</td>\n",
              "      <td>0.0</td>\n",
              "      <td>0.0</td>\n",
              "      <td>0.0</td>\n",
              "      <td>0.0</td>\n",
              "      <td>0.0</td>\n",
              "      <td>0.0</td>\n",
              "      <td>0.0</td>\n",
              "      <td>0.0</td>\n",
              "    </tr>\n",
              "    <tr>\n",
              "      <th>Types</th>\n",
              "      <td>object</td>\n",
              "      <td>int64</td>\n",
              "      <td>float64</td>\n",
              "      <td>float64</td>\n",
              "      <td>float64</td>\n",
              "      <td>float64</td>\n",
              "      <td>float64</td>\n",
              "      <td>float64</td>\n",
              "      <td>float64</td>\n",
              "      <td>float64</td>\n",
              "      <td>...</td>\n",
              "      <td>float64</td>\n",
              "      <td>float64</td>\n",
              "      <td>float64</td>\n",
              "      <td>float64</td>\n",
              "      <td>float64</td>\n",
              "      <td>float64</td>\n",
              "      <td>float64</td>\n",
              "      <td>float64</td>\n",
              "      <td>float64</td>\n",
              "      <td>float64</td>\n",
              "    </tr>\n",
              "  </tbody>\n",
              "</table>\n",
              "<p>3 rows × 202 columns</p>\n",
              "</div>\n",
              "      <button class=\"colab-df-convert\" onclick=\"convertToInteractive('df-49abf0bc-8e95-4ef7-9d03-0242266180af')\"\n",
              "              title=\"Convert this dataframe to an interactive table.\"\n",
              "              style=\"display:none;\">\n",
              "        \n",
              "  <svg xmlns=\"http://www.w3.org/2000/svg\" height=\"24px\"viewBox=\"0 0 24 24\"\n",
              "       width=\"24px\">\n",
              "    <path d=\"M0 0h24v24H0V0z\" fill=\"none\"/>\n",
              "    <path d=\"M18.56 5.44l.94 2.06.94-2.06 2.06-.94-2.06-.94-.94-2.06-.94 2.06-2.06.94zm-11 1L8.5 8.5l.94-2.06 2.06-.94-2.06-.94L8.5 2.5l-.94 2.06-2.06.94zm10 10l.94 2.06.94-2.06 2.06-.94-2.06-.94-.94-2.06-.94 2.06-2.06.94z\"/><path d=\"M17.41 7.96l-1.37-1.37c-.4-.4-.92-.59-1.43-.59-.52 0-1.04.2-1.43.59L10.3 9.45l-7.72 7.72c-.78.78-.78 2.05 0 2.83L4 21.41c.39.39.9.59 1.41.59.51 0 1.02-.2 1.41-.59l7.78-7.78 2.81-2.81c.8-.78.8-2.07 0-2.86zM5.41 20L4 18.59l7.72-7.72 1.47 1.35L5.41 20z\"/>\n",
              "  </svg>\n",
              "      </button>\n",
              "      \n",
              "  <style>\n",
              "    .colab-df-container {\n",
              "      display:flex;\n",
              "      flex-wrap:wrap;\n",
              "      gap: 12px;\n",
              "    }\n",
              "\n",
              "    .colab-df-convert {\n",
              "      background-color: #E8F0FE;\n",
              "      border: none;\n",
              "      border-radius: 50%;\n",
              "      cursor: pointer;\n",
              "      display: none;\n",
              "      fill: #1967D2;\n",
              "      height: 32px;\n",
              "      padding: 0 0 0 0;\n",
              "      width: 32px;\n",
              "    }\n",
              "\n",
              "    .colab-df-convert:hover {\n",
              "      background-color: #E2EBFA;\n",
              "      box-shadow: 0px 1px 2px rgba(60, 64, 67, 0.3), 0px 1px 3px 1px rgba(60, 64, 67, 0.15);\n",
              "      fill: #174EA6;\n",
              "    }\n",
              "\n",
              "    [theme=dark] .colab-df-convert {\n",
              "      background-color: #3B4455;\n",
              "      fill: #D2E3FC;\n",
              "    }\n",
              "\n",
              "    [theme=dark] .colab-df-convert:hover {\n",
              "      background-color: #434B5C;\n",
              "      box-shadow: 0px 1px 3px 1px rgba(0, 0, 0, 0.15);\n",
              "      filter: drop-shadow(0px 1px 2px rgba(0, 0, 0, 0.3));\n",
              "      fill: #FFFFFF;\n",
              "    }\n",
              "  </style>\n",
              "\n",
              "      <script>\n",
              "        const buttonEl =\n",
              "          document.querySelector('#df-49abf0bc-8e95-4ef7-9d03-0242266180af button.colab-df-convert');\n",
              "        buttonEl.style.display =\n",
              "          google.colab.kernel.accessAllowed ? 'block' : 'none';\n",
              "\n",
              "        async function convertToInteractive(key) {\n",
              "          const element = document.querySelector('#df-49abf0bc-8e95-4ef7-9d03-0242266180af');\n",
              "          const dataTable =\n",
              "            await google.colab.kernel.invokeFunction('convertToInteractive',\n",
              "                                                     [key], {});\n",
              "          if (!dataTable) return;\n",
              "\n",
              "          const docLinkHtml = 'Like what you see? Visit the ' +\n",
              "            '<a target=\"_blank\" href=https://colab.research.google.com/notebooks/data_table.ipynb>data table notebook</a>'\n",
              "            + ' to learn more about interactive tables.';\n",
              "          element.innerHTML = '';\n",
              "          dataTable['output_type'] = 'display_data';\n",
              "          await google.colab.output.renderOutput(dataTable, element);\n",
              "          const docLink = document.createElement('div');\n",
              "          docLink.innerHTML = docLinkHtml;\n",
              "          element.appendChild(docLink);\n",
              "        }\n",
              "      </script>\n",
              "    </div>\n",
              "  </div>\n",
              "  "
            ],
            "text/plain": [
              "        ID_code target    var_0    var_1    var_2    var_3    var_4    var_5  \\\n",
              "Total         0      0        0        0        0        0        0        0   \n",
              "Percent     0.0    0.0      0.0      0.0      0.0      0.0      0.0      0.0   \n",
              "Types    object  int64  float64  float64  float64  float64  float64  float64   \n",
              "\n",
              "           var_6    var_7  ...  var_190  var_191  var_192  var_193  var_194  \\\n",
              "Total          0        0  ...        0        0        0        0        0   \n",
              "Percent      0.0      0.0  ...      0.0      0.0      0.0      0.0      0.0   \n",
              "Types    float64  float64  ...  float64  float64  float64  float64  float64   \n",
              "\n",
              "         var_195  var_196  var_197  var_198  var_199  \n",
              "Total          0        0        0        0        0  \n",
              "Percent      0.0      0.0      0.0      0.0      0.0  \n",
              "Types    float64  float64  float64  float64  float64  \n",
              "\n",
              "[3 rows x 202 columns]"
            ]
          },
          "execution_count": 9,
          "metadata": {},
          "output_type": "execute_result"
        }
      ],
      "source": [
        "missing_data(train)"
      ]
    },
    {
      "cell_type": "markdown",
      "metadata": {
        "id": "0gcl3eTH3QBQ"
      },
      "source": [
        "##1.2. Variable reduction - IV and WOE"
      ]
    },
    {
      "cell_type": "markdown",
      "metadata": {
        "id": "eBoY-BEw6yk9"
      },
      "source": [
        "The following is a function that calculates IV and WOE for the variables in the dataset."
      ]
    },
    {
      "cell_type": "code",
      "execution_count": null,
      "metadata": {
        "id": "Xv3eQeY8wwv3"
      },
      "outputs": [],
      "source": [
        "def iv_woe(data, target, bins=20, show_woe=False):\n",
        "    \n",
        "    #Empty Dataframe\n",
        "    newDF,woeDF = pd.DataFrame(), pd.DataFrame()\n",
        "    \n",
        "    #Extract Column Names\n",
        "    cols = data.columns\n",
        "    \n",
        "    #Run WOE and IV on all the independent variables\n",
        "    for ivars in cols[~cols.isin([target])]:\n",
        "        if (data[ivars].dtype.kind in 'bifc') and (len(np.unique(data[ivars]))>10):\n",
        "            binned_x = pd.qcut(data[ivars], bins,  duplicates='drop')\n",
        "            d0 = pd.DataFrame({'x': binned_x, 'y': data[target]})\n",
        "        else:\n",
        "            d0 = pd.DataFrame({'x': data[ivars], 'y': data[target]})\n",
        "\n",
        "        \n",
        "        # Calculate the number of events in each group (bin)\n",
        "        d = d0.groupby(\"x\", as_index=False).agg({\"y\": [\"count\", \"sum\"]})\n",
        "        d.columns = ['Cutoff', 'N', 'Events']\n",
        "        \n",
        "        # Calculate % of events in each group.\n",
        "        d['% of Events'] = np.maximum(d['Events'], 0.5) / d['Events'].sum()\n",
        "\n",
        "        # Calculate the non events in each group.\n",
        "        d['Non-Events'] = d['N'] - d['Events']\n",
        "        # Calculate % of non events in each group.\n",
        "        d['% of Non-Events'] = np.maximum(d['Non-Events'], 0.5) / d['Non-Events'].sum()\n",
        "\n",
        "        # Calculate WOE by taking natural log of division of % of non-events and % of events\n",
        "        d['WoE'] = np.log(d['% of Events']/d['% of Non-Events'])\n",
        "        d['IV'] = d['WoE'] * (d['% of Events'] - d['% of Non-Events'])\n",
        "        d.insert(loc=0, column='Variable', value=ivars)\n",
        "        #print(\"Information value of \" + ivars + \" is \" + str(round(d['IV'].sum(),6)))\n",
        "        temp =pd.DataFrame({\"Variable\" : [ivars], \"IV\" : [d['IV'].sum()]}, columns = [\"Variable\", \"IV\"])\n",
        "        newDF=pd.concat([newDF,temp], axis=0)\n",
        "        woeDF=pd.concat([woeDF,d], axis=0)\n",
        "\n",
        "        #Show WOE Table\n",
        "        if show_woe == True:\n",
        "            print(d)\n",
        "    return newDF, woeDF"
      ]
    },
    {
      "cell_type": "code",
      "execution_count": null,
      "metadata": {
        "id": "v1MW3nMN6w24"
      },
      "outputs": [],
      "source": [
        "iv, woe_iv = iv_woe(train, \"target\")"
      ]
    },
    {
      "cell_type": "code",
      "execution_count": null,
      "metadata": {
        "colab": {
          "base_uri": "https://localhost:8080/"
        },
        "id": "_pr9vug5I5v3",
        "outputId": "365d1b1d-fa92-4bb9-89ad-dfa21ea66150"
      },
      "outputs": [
        {
          "name": "stdout",
          "output_type": "stream",
          "text": [
            "<class 'pandas.core.frame.DataFrame'>\n",
            "Int64Index: 201 entries, 0 to 0\n",
            "Data columns (total 2 columns):\n",
            " #   Column    Non-Null Count  Dtype  \n",
            "---  ------    --------------  -----  \n",
            " 0   Variable  201 non-null    object \n",
            " 1   IV        201 non-null    float64\n",
            "dtypes: float64(1), object(1)\n",
            "memory usage: 4.7+ KB\n"
          ]
        }
      ],
      "source": [
        "iv.info()"
      ]
    },
    {
      "cell_type": "code",
      "execution_count": null,
      "metadata": {
        "colab": {
          "base_uri": "https://localhost:8080/",
          "height": 206
        },
        "id": "unEUYX1v7s-D",
        "outputId": "310d8fee-c76f-4b6f-c67f-9f25967c6b0d"
      },
      "outputs": [
        {
          "data": {
            "text/html": [
              "\n",
              "  <div id=\"df-52646508-2ae4-4a82-a8f5-a796a6bb5efc\">\n",
              "    <div class=\"colab-df-container\">\n",
              "      <div>\n",
              "<style scoped>\n",
              "    .dataframe tbody tr th:only-of-type {\n",
              "        vertical-align: middle;\n",
              "    }\n",
              "\n",
              "    .dataframe tbody tr th {\n",
              "        vertical-align: top;\n",
              "    }\n",
              "\n",
              "    .dataframe thead th {\n",
              "        text-align: right;\n",
              "    }\n",
              "</style>\n",
              "<table border=\"1\" class=\"dataframe\">\n",
              "  <thead>\n",
              "    <tr style=\"text-align: right;\">\n",
              "      <th></th>\n",
              "      <th>Variable</th>\n",
              "      <th>IV</th>\n",
              "    </tr>\n",
              "  </thead>\n",
              "  <tbody>\n",
              "    <tr>\n",
              "      <th>0</th>\n",
              "      <td>ID_code</td>\n",
              "      <td>7.932511</td>\n",
              "    </tr>\n",
              "    <tr>\n",
              "      <th>0</th>\n",
              "      <td>var_0</td>\n",
              "      <td>0.041014</td>\n",
              "    </tr>\n",
              "    <tr>\n",
              "      <th>0</th>\n",
              "      <td>var_1</td>\n",
              "      <td>0.036869</td>\n",
              "    </tr>\n",
              "    <tr>\n",
              "      <th>0</th>\n",
              "      <td>var_2</td>\n",
              "      <td>0.046342</td>\n",
              "    </tr>\n",
              "    <tr>\n",
              "      <th>0</th>\n",
              "      <td>var_3</td>\n",
              "      <td>0.003112</td>\n",
              "    </tr>\n",
              "  </tbody>\n",
              "</table>\n",
              "</div>\n",
              "      <button class=\"colab-df-convert\" onclick=\"convertToInteractive('df-52646508-2ae4-4a82-a8f5-a796a6bb5efc')\"\n",
              "              title=\"Convert this dataframe to an interactive table.\"\n",
              "              style=\"display:none;\">\n",
              "        \n",
              "  <svg xmlns=\"http://www.w3.org/2000/svg\" height=\"24px\"viewBox=\"0 0 24 24\"\n",
              "       width=\"24px\">\n",
              "    <path d=\"M0 0h24v24H0V0z\" fill=\"none\"/>\n",
              "    <path d=\"M18.56 5.44l.94 2.06.94-2.06 2.06-.94-2.06-.94-.94-2.06-.94 2.06-2.06.94zm-11 1L8.5 8.5l.94-2.06 2.06-.94-2.06-.94L8.5 2.5l-.94 2.06-2.06.94zm10 10l.94 2.06.94-2.06 2.06-.94-2.06-.94-.94-2.06-.94 2.06-2.06.94z\"/><path d=\"M17.41 7.96l-1.37-1.37c-.4-.4-.92-.59-1.43-.59-.52 0-1.04.2-1.43.59L10.3 9.45l-7.72 7.72c-.78.78-.78 2.05 0 2.83L4 21.41c.39.39.9.59 1.41.59.51 0 1.02-.2 1.41-.59l7.78-7.78 2.81-2.81c.8-.78.8-2.07 0-2.86zM5.41 20L4 18.59l7.72-7.72 1.47 1.35L5.41 20z\"/>\n",
              "  </svg>\n",
              "      </button>\n",
              "      \n",
              "  <style>\n",
              "    .colab-df-container {\n",
              "      display:flex;\n",
              "      flex-wrap:wrap;\n",
              "      gap: 12px;\n",
              "    }\n",
              "\n",
              "    .colab-df-convert {\n",
              "      background-color: #E8F0FE;\n",
              "      border: none;\n",
              "      border-radius: 50%;\n",
              "      cursor: pointer;\n",
              "      display: none;\n",
              "      fill: #1967D2;\n",
              "      height: 32px;\n",
              "      padding: 0 0 0 0;\n",
              "      width: 32px;\n",
              "    }\n",
              "\n",
              "    .colab-df-convert:hover {\n",
              "      background-color: #E2EBFA;\n",
              "      box-shadow: 0px 1px 2px rgba(60, 64, 67, 0.3), 0px 1px 3px 1px rgba(60, 64, 67, 0.15);\n",
              "      fill: #174EA6;\n",
              "    }\n",
              "\n",
              "    [theme=dark] .colab-df-convert {\n",
              "      background-color: #3B4455;\n",
              "      fill: #D2E3FC;\n",
              "    }\n",
              "\n",
              "    [theme=dark] .colab-df-convert:hover {\n",
              "      background-color: #434B5C;\n",
              "      box-shadow: 0px 1px 3px 1px rgba(0, 0, 0, 0.15);\n",
              "      filter: drop-shadow(0px 1px 2px rgba(0, 0, 0, 0.3));\n",
              "      fill: #FFFFFF;\n",
              "    }\n",
              "  </style>\n",
              "\n",
              "      <script>\n",
              "        const buttonEl =\n",
              "          document.querySelector('#df-52646508-2ae4-4a82-a8f5-a796a6bb5efc button.colab-df-convert');\n",
              "        buttonEl.style.display =\n",
              "          google.colab.kernel.accessAllowed ? 'block' : 'none';\n",
              "\n",
              "        async function convertToInteractive(key) {\n",
              "          const element = document.querySelector('#df-52646508-2ae4-4a82-a8f5-a796a6bb5efc');\n",
              "          const dataTable =\n",
              "            await google.colab.kernel.invokeFunction('convertToInteractive',\n",
              "                                                     [key], {});\n",
              "          if (!dataTable) return;\n",
              "\n",
              "          const docLinkHtml = 'Like what you see? Visit the ' +\n",
              "            '<a target=\"_blank\" href=https://colab.research.google.com/notebooks/data_table.ipynb>data table notebook</a>'\n",
              "            + ' to learn more about interactive tables.';\n",
              "          element.innerHTML = '';\n",
              "          dataTable['output_type'] = 'display_data';\n",
              "          await google.colab.output.renderOutput(dataTable, element);\n",
              "          const docLink = document.createElement('div');\n",
              "          docLink.innerHTML = docLinkHtml;\n",
              "          element.appendChild(docLink);\n",
              "        }\n",
              "      </script>\n",
              "    </div>\n",
              "  </div>\n",
              "  "
            ],
            "text/plain": [
              "  Variable        IV\n",
              "0  ID_code  7.932511\n",
              "0    var_0  0.041014\n",
              "0    var_1  0.036869\n",
              "0    var_2  0.046342\n",
              "0    var_3  0.003112"
            ]
          },
          "execution_count": 6,
          "metadata": {},
          "output_type": "execute_result"
        }
      ],
      "source": [
        "iv.head()"
      ]
    },
    {
      "cell_type": "markdown",
      "metadata": {
        "id": "-gnDI4mNCwjC"
      },
      "source": [
        "The index value is 0 for all rows. This may cause a problem while filtering the dataset. So, let's reset the index."
      ]
    },
    {
      "cell_type": "code",
      "execution_count": null,
      "metadata": {
        "colab": {
          "base_uri": "https://localhost:8080/"
        },
        "id": "8EGhJUVcIB5P",
        "outputId": "fe49512a-0eaf-43b4-c50d-fd7818e963a6"
      },
      "outputs": [
        {
          "output_type": "execute_result",
          "data": {
            "text/plain": [
              "  Variable        IV\n",
              "0  ID_code  7.932511\n",
              "1    var_0  0.041014\n",
              "2    var_1  0.036869\n",
              "3    var_2  0.046342\n",
              "4    var_3  0.003112"
            ],
            "text/html": [
              "\n",
              "  <div id=\"df-25a4c6c8-8370-4b1d-a29b-318cc987ca51\">\n",
              "    <div class=\"colab-df-container\">\n",
              "      <div>\n",
              "<style scoped>\n",
              "    .dataframe tbody tr th:only-of-type {\n",
              "        vertical-align: middle;\n",
              "    }\n",
              "\n",
              "    .dataframe tbody tr th {\n",
              "        vertical-align: top;\n",
              "    }\n",
              "\n",
              "    .dataframe thead th {\n",
              "        text-align: right;\n",
              "    }\n",
              "</style>\n",
              "<table border=\"1\" class=\"dataframe\">\n",
              "  <thead>\n",
              "    <tr style=\"text-align: right;\">\n",
              "      <th></th>\n",
              "      <th>Variable</th>\n",
              "      <th>IV</th>\n",
              "    </tr>\n",
              "  </thead>\n",
              "  <tbody>\n",
              "    <tr>\n",
              "      <th>0</th>\n",
              "      <td>ID_code</td>\n",
              "      <td>7.932511</td>\n",
              "    </tr>\n",
              "    <tr>\n",
              "      <th>1</th>\n",
              "      <td>var_0</td>\n",
              "      <td>0.041014</td>\n",
              "    </tr>\n",
              "    <tr>\n",
              "      <th>2</th>\n",
              "      <td>var_1</td>\n",
              "      <td>0.036869</td>\n",
              "    </tr>\n",
              "    <tr>\n",
              "      <th>3</th>\n",
              "      <td>var_2</td>\n",
              "      <td>0.046342</td>\n",
              "    </tr>\n",
              "    <tr>\n",
              "      <th>4</th>\n",
              "      <td>var_3</td>\n",
              "      <td>0.003112</td>\n",
              "    </tr>\n",
              "  </tbody>\n",
              "</table>\n",
              "</div>\n",
              "      <button class=\"colab-df-convert\" onclick=\"convertToInteractive('df-25a4c6c8-8370-4b1d-a29b-318cc987ca51')\"\n",
              "              title=\"Convert this dataframe to an interactive table.\"\n",
              "              style=\"display:none;\">\n",
              "        \n",
              "  <svg xmlns=\"http://www.w3.org/2000/svg\" height=\"24px\"viewBox=\"0 0 24 24\"\n",
              "       width=\"24px\">\n",
              "    <path d=\"M0 0h24v24H0V0z\" fill=\"none\"/>\n",
              "    <path d=\"M18.56 5.44l.94 2.06.94-2.06 2.06-.94-2.06-.94-.94-2.06-.94 2.06-2.06.94zm-11 1L8.5 8.5l.94-2.06 2.06-.94-2.06-.94L8.5 2.5l-.94 2.06-2.06.94zm10 10l.94 2.06.94-2.06 2.06-.94-2.06-.94-.94-2.06-.94 2.06-2.06.94z\"/><path d=\"M17.41 7.96l-1.37-1.37c-.4-.4-.92-.59-1.43-.59-.52 0-1.04.2-1.43.59L10.3 9.45l-7.72 7.72c-.78.78-.78 2.05 0 2.83L4 21.41c.39.39.9.59 1.41.59.51 0 1.02-.2 1.41-.59l7.78-7.78 2.81-2.81c.8-.78.8-2.07 0-2.86zM5.41 20L4 18.59l7.72-7.72 1.47 1.35L5.41 20z\"/>\n",
              "  </svg>\n",
              "      </button>\n",
              "      \n",
              "  <style>\n",
              "    .colab-df-container {\n",
              "      display:flex;\n",
              "      flex-wrap:wrap;\n",
              "      gap: 12px;\n",
              "    }\n",
              "\n",
              "    .colab-df-convert {\n",
              "      background-color: #E8F0FE;\n",
              "      border: none;\n",
              "      border-radius: 50%;\n",
              "      cursor: pointer;\n",
              "      display: none;\n",
              "      fill: #1967D2;\n",
              "      height: 32px;\n",
              "      padding: 0 0 0 0;\n",
              "      width: 32px;\n",
              "    }\n",
              "\n",
              "    .colab-df-convert:hover {\n",
              "      background-color: #E2EBFA;\n",
              "      box-shadow: 0px 1px 2px rgba(60, 64, 67, 0.3), 0px 1px 3px 1px rgba(60, 64, 67, 0.15);\n",
              "      fill: #174EA6;\n",
              "    }\n",
              "\n",
              "    [theme=dark] .colab-df-convert {\n",
              "      background-color: #3B4455;\n",
              "      fill: #D2E3FC;\n",
              "    }\n",
              "\n",
              "    [theme=dark] .colab-df-convert:hover {\n",
              "      background-color: #434B5C;\n",
              "      box-shadow: 0px 1px 3px 1px rgba(0, 0, 0, 0.15);\n",
              "      filter: drop-shadow(0px 1px 2px rgba(0, 0, 0, 0.3));\n",
              "      fill: #FFFFFF;\n",
              "    }\n",
              "  </style>\n",
              "\n",
              "      <script>\n",
              "        const buttonEl =\n",
              "          document.querySelector('#df-25a4c6c8-8370-4b1d-a29b-318cc987ca51 button.colab-df-convert');\n",
              "        buttonEl.style.display =\n",
              "          google.colab.kernel.accessAllowed ? 'block' : 'none';\n",
              "\n",
              "        async function convertToInteractive(key) {\n",
              "          const element = document.querySelector('#df-25a4c6c8-8370-4b1d-a29b-318cc987ca51');\n",
              "          const dataTable =\n",
              "            await google.colab.kernel.invokeFunction('convertToInteractive',\n",
              "                                                     [key], {});\n",
              "          if (!dataTable) return;\n",
              "\n",
              "          const docLinkHtml = 'Like what you see? Visit the ' +\n",
              "            '<a target=\"_blank\" href=https://colab.research.google.com/notebooks/data_table.ipynb>data table notebook</a>'\n",
              "            + ' to learn more about interactive tables.';\n",
              "          element.innerHTML = '';\n",
              "          dataTable['output_type'] = 'display_data';\n",
              "          await google.colab.output.renderOutput(dataTable, element);\n",
              "          const docLink = document.createElement('div');\n",
              "          docLink.innerHTML = docLinkHtml;\n",
              "          element.appendChild(docLink);\n",
              "        }\n",
              "      </script>\n",
              "    </div>\n",
              "  </div>\n",
              "  "
            ]
          },
          "metadata": {},
          "execution_count": 5
        }
      ],
      "source": [
        "iv.reset_index(drop = True,inplace=True)\n",
        "iv.head()"
      ]
    },
    {
      "cell_type": "markdown",
      "metadata": {
        "id": "kXH1zVuU-3xJ"
      },
      "source": [
        "ID_code is not a variable and hence, calculating IV for it does not make sense. "
      ]
    },
    {
      "cell_type": "code",
      "execution_count": null,
      "metadata": {
        "colab": {
          "base_uri": "https://localhost:8080/"
        },
        "id": "rSy9RbvN90zJ",
        "outputId": "925efbe8-2b75-48ef-ea94-d5ac3af511a0"
      },
      "outputs": [
        {
          "output_type": "execute_result",
          "data": {
            "text/plain": [
              "  Variable        IV\n",
              "1    var_0  0.041014\n",
              "2    var_1  0.036869\n",
              "3    var_2  0.046342\n",
              "4    var_3  0.003112\n",
              "5    var_4  0.003768"
            ],
            "text/html": [
              "\n",
              "  <div id=\"df-cee15271-2335-4a5e-97f3-6bb9b13441cb\">\n",
              "    <div class=\"colab-df-container\">\n",
              "      <div>\n",
              "<style scoped>\n",
              "    .dataframe tbody tr th:only-of-type {\n",
              "        vertical-align: middle;\n",
              "    }\n",
              "\n",
              "    .dataframe tbody tr th {\n",
              "        vertical-align: top;\n",
              "    }\n",
              "\n",
              "    .dataframe thead th {\n",
              "        text-align: right;\n",
              "    }\n",
              "</style>\n",
              "<table border=\"1\" class=\"dataframe\">\n",
              "  <thead>\n",
              "    <tr style=\"text-align: right;\">\n",
              "      <th></th>\n",
              "      <th>Variable</th>\n",
              "      <th>IV</th>\n",
              "    </tr>\n",
              "  </thead>\n",
              "  <tbody>\n",
              "    <tr>\n",
              "      <th>1</th>\n",
              "      <td>var_0</td>\n",
              "      <td>0.041014</td>\n",
              "    </tr>\n",
              "    <tr>\n",
              "      <th>2</th>\n",
              "      <td>var_1</td>\n",
              "      <td>0.036869</td>\n",
              "    </tr>\n",
              "    <tr>\n",
              "      <th>3</th>\n",
              "      <td>var_2</td>\n",
              "      <td>0.046342</td>\n",
              "    </tr>\n",
              "    <tr>\n",
              "      <th>4</th>\n",
              "      <td>var_3</td>\n",
              "      <td>0.003112</td>\n",
              "    </tr>\n",
              "    <tr>\n",
              "      <th>5</th>\n",
              "      <td>var_4</td>\n",
              "      <td>0.003768</td>\n",
              "    </tr>\n",
              "  </tbody>\n",
              "</table>\n",
              "</div>\n",
              "      <button class=\"colab-df-convert\" onclick=\"convertToInteractive('df-cee15271-2335-4a5e-97f3-6bb9b13441cb')\"\n",
              "              title=\"Convert this dataframe to an interactive table.\"\n",
              "              style=\"display:none;\">\n",
              "        \n",
              "  <svg xmlns=\"http://www.w3.org/2000/svg\" height=\"24px\"viewBox=\"0 0 24 24\"\n",
              "       width=\"24px\">\n",
              "    <path d=\"M0 0h24v24H0V0z\" fill=\"none\"/>\n",
              "    <path d=\"M18.56 5.44l.94 2.06.94-2.06 2.06-.94-2.06-.94-.94-2.06-.94 2.06-2.06.94zm-11 1L8.5 8.5l.94-2.06 2.06-.94-2.06-.94L8.5 2.5l-.94 2.06-2.06.94zm10 10l.94 2.06.94-2.06 2.06-.94-2.06-.94-.94-2.06-.94 2.06-2.06.94z\"/><path d=\"M17.41 7.96l-1.37-1.37c-.4-.4-.92-.59-1.43-.59-.52 0-1.04.2-1.43.59L10.3 9.45l-7.72 7.72c-.78.78-.78 2.05 0 2.83L4 21.41c.39.39.9.59 1.41.59.51 0 1.02-.2 1.41-.59l7.78-7.78 2.81-2.81c.8-.78.8-2.07 0-2.86zM5.41 20L4 18.59l7.72-7.72 1.47 1.35L5.41 20z\"/>\n",
              "  </svg>\n",
              "      </button>\n",
              "      \n",
              "  <style>\n",
              "    .colab-df-container {\n",
              "      display:flex;\n",
              "      flex-wrap:wrap;\n",
              "      gap: 12px;\n",
              "    }\n",
              "\n",
              "    .colab-df-convert {\n",
              "      background-color: #E8F0FE;\n",
              "      border: none;\n",
              "      border-radius: 50%;\n",
              "      cursor: pointer;\n",
              "      display: none;\n",
              "      fill: #1967D2;\n",
              "      height: 32px;\n",
              "      padding: 0 0 0 0;\n",
              "      width: 32px;\n",
              "    }\n",
              "\n",
              "    .colab-df-convert:hover {\n",
              "      background-color: #E2EBFA;\n",
              "      box-shadow: 0px 1px 2px rgba(60, 64, 67, 0.3), 0px 1px 3px 1px rgba(60, 64, 67, 0.15);\n",
              "      fill: #174EA6;\n",
              "    }\n",
              "\n",
              "    [theme=dark] .colab-df-convert {\n",
              "      background-color: #3B4455;\n",
              "      fill: #D2E3FC;\n",
              "    }\n",
              "\n",
              "    [theme=dark] .colab-df-convert:hover {\n",
              "      background-color: #434B5C;\n",
              "      box-shadow: 0px 1px 3px 1px rgba(0, 0, 0, 0.15);\n",
              "      filter: drop-shadow(0px 1px 2px rgba(0, 0, 0, 0.3));\n",
              "      fill: #FFFFFF;\n",
              "    }\n",
              "  </style>\n",
              "\n",
              "      <script>\n",
              "        const buttonEl =\n",
              "          document.querySelector('#df-cee15271-2335-4a5e-97f3-6bb9b13441cb button.colab-df-convert');\n",
              "        buttonEl.style.display =\n",
              "          google.colab.kernel.accessAllowed ? 'block' : 'none';\n",
              "\n",
              "        async function convertToInteractive(key) {\n",
              "          const element = document.querySelector('#df-cee15271-2335-4a5e-97f3-6bb9b13441cb');\n",
              "          const dataTable =\n",
              "            await google.colab.kernel.invokeFunction('convertToInteractive',\n",
              "                                                     [key], {});\n",
              "          if (!dataTable) return;\n",
              "\n",
              "          const docLinkHtml = 'Like what you see? Visit the ' +\n",
              "            '<a target=\"_blank\" href=https://colab.research.google.com/notebooks/data_table.ipynb>data table notebook</a>'\n",
              "            + ' to learn more about interactive tables.';\n",
              "          element.innerHTML = '';\n",
              "          dataTable['output_type'] = 'display_data';\n",
              "          await google.colab.output.renderOutput(dataTable, element);\n",
              "          const docLink = document.createElement('div');\n",
              "          docLink.innerHTML = docLinkHtml;\n",
              "          element.appendChild(docLink);\n",
              "        }\n",
              "      </script>\n",
              "    </div>\n",
              "  </div>\n",
              "  "
            ]
          },
          "metadata": {},
          "execution_count": 6
        }
      ],
      "source": [
        "iv.drop(iv.index[(iv[\"Variable\"] == \"ID_code\")],axis=0,inplace=True)\n",
        "iv.head()"
      ]
    },
    {
      "cell_type": "markdown",
      "metadata": {
        "id": "B5F3d1bV_ZRR"
      },
      "source": [
        "The objective is to select variables that differenciate well  and remove variables that have low predictive power. A universally accepted cut-off for IV is 0.02. Hence, variables that have IV less than 0.02 are dropped. "
      ]
    },
    {
      "cell_type": "code",
      "execution_count": null,
      "metadata": {
        "colab": {
          "base_uri": "https://localhost:8080/"
        },
        "id": "wc5PldC6Iphk",
        "outputId": "3c962018-c163-4878-9f15-e28fdb8eb576"
      },
      "outputs": [
        {
          "output_type": "stream",
          "name": "stdout",
          "text": [
            "<class 'pandas.core.frame.DataFrame'>\n",
            "Int64Index: 65 entries, 1 to 199\n",
            "Data columns (total 2 columns):\n",
            " #   Column    Non-Null Count  Dtype  \n",
            "---  ------    --------------  -----  \n",
            " 0   Variable  65 non-null     object \n",
            " 1   IV        65 non-null     float64\n",
            "dtypes: float64(1), object(1)\n",
            "memory usage: 1.5+ KB\n"
          ]
        }
      ],
      "source": [
        "iv_subset1 = iv[iv['IV'] >= 0.02]\n",
        "iv_subset1.info()"
      ]
    },
    {
      "cell_type": "markdown",
      "metadata": {
        "id": "UxD28VMeKD2r"
      },
      "source": [
        "The number of variables has been reduced to 65 from the original 200. "
      ]
    },
    {
      "cell_type": "markdown",
      "source": [
        "##1.3. Dimension reduction using PCA"
      ],
      "metadata": {
        "id": "U9-42b2Vm4Ep"
      }
    },
    {
      "cell_type": "code",
      "source": [
        "train_pca = train.drop(labels=['ID_code','target'],axis=1)"
      ],
      "metadata": {
        "id": "VC_HOa0Gm9pT"
      },
      "execution_count": null,
      "outputs": []
    },
    {
      "cell_type": "code",
      "source": [
        "data_scaled=train_pca.apply(zscore)"
      ],
      "metadata": {
        "id": "KTsUTnbWobia"
      },
      "execution_count": null,
      "outputs": []
    },
    {
      "cell_type": "code",
      "source": [
        "pca = PCA()\n",
        "data_reduced = pca.fit_transform(data_scaled)\n",
        "data_reduced.transpose()"
      ],
      "metadata": {
        "colab": {
          "base_uri": "https://localhost:8080/"
        },
        "id": "t5mh2lJooTui",
        "outputId": "4b161aba-d114-42e5-a705-4bbefdb7929d"
      },
      "execution_count": null,
      "outputs": [
        {
          "output_type": "execute_result",
          "data": {
            "text/plain": [
              "array([[-0.44440823,  2.21068356, -0.06566252, ...,  0.70239573,\n",
              "        -0.46526055, -1.42638674],\n",
              "       [ 0.13216404, -0.2963106 , -0.11441835, ..., -0.7946781 ,\n",
              "         0.35302903, -1.10792322],\n",
              "       [-0.37563526,  0.23734188, -2.04049932, ..., -0.53434388,\n",
              "         0.16033316, -1.46471143],\n",
              "       ...,\n",
              "       [ 0.56104614, -1.50302442,  1.18187724, ...,  1.01270036,\n",
              "        -0.40768865, -0.83369791],\n",
              "       [-0.01978502, -0.9366948 , -0.16931748, ...,  0.29456056,\n",
              "         1.2731306 ,  0.50058195],\n",
              "       [ 0.86693817, -1.54811449,  0.09908479, ...,  0.76218515,\n",
              "         1.70288349, -0.7989944 ]])"
            ]
          },
          "metadata": {},
          "execution_count": 9
        }
      ]
    },
    {
      "cell_type": "code",
      "source": [
        "print('Eigen Vectors \\n')\n",
        "pd.DataFrame(pca.components_)"
      ],
      "metadata": {
        "colab": {
          "base_uri": "https://localhost:8080/",
          "height": 458
        },
        "id": "Xbt6Nj9xpWk1",
        "outputId": "b80065fc-2741-498f-fecd-3a0e0e0d1963"
      },
      "execution_count": null,
      "outputs": [
        {
          "output_type": "stream",
          "name": "stdout",
          "text": [
            "Eigen Vectors \n",
            "\n"
          ]
        },
        {
          "output_type": "execute_result",
          "data": {
            "text/plain": [
              "          0         1         2         3         4         5         6    \\\n",
              "0    0.113597  0.104157  0.121453  0.015592  0.007613  0.044729  0.131468   \n",
              "1    0.043750  0.008162  0.010329  0.150598  0.011088 -0.099539 -0.041088   \n",
              "2    0.084980  0.035149  0.007964  0.020716  0.118882 -0.010152  0.029953   \n",
              "3    0.082712  0.044227  0.060638 -0.011923  0.135716 -0.051260  0.023457   \n",
              "4    0.050322 -0.065474 -0.001771  0.082787  0.040367 -0.061982 -0.068438   \n",
              "..        ...       ...       ...       ...       ...       ...       ...   \n",
              "195  0.054565  0.067274 -0.125965 -0.030866 -0.032427  0.149264 -0.077228   \n",
              "196  0.110368  0.060023  0.098094 -0.059940 -0.048013 -0.011002 -0.011874   \n",
              "197 -0.109268 -0.101245  0.066551 -0.059768 -0.126740 -0.112516  0.072070   \n",
              "198 -0.019509 -0.040284 -0.074005  0.002635  0.038158 -0.100263 -0.089556   \n",
              "199 -0.039604 -0.036256 -0.108151  0.003353 -0.080168 -0.093987  0.022923   \n",
              "\n",
              "          7         8         9    ...       190       191       192  \\\n",
              "0   -0.017531  0.050159 -0.098026  ...  0.106239  0.094753 -0.084270   \n",
              "1    0.071406  0.116530  0.117512  ...  0.151918  0.040089 -0.000391   \n",
              "2    0.107580  0.008252 -0.008949  ...  0.002598  0.029451  0.025540   \n",
              "3    0.031148 -0.013359  0.057264  ... -0.021604  0.027384 -0.001440   \n",
              "4    0.092750  0.126300 -0.037101  ... -0.000374 -0.130377  0.078717   \n",
              "..        ...       ...       ...  ...       ...       ...       ...   \n",
              "195 -0.057014  0.040476  0.038869  ... -0.091735  0.011936  0.110477   \n",
              "196 -0.048637 -0.018413 -0.084940  ... -0.095127 -0.062443  0.067931   \n",
              "197  0.051541  0.064742  0.012418  ... -0.073925  0.165777  0.150092   \n",
              "198 -0.009310 -0.042282 -0.057581  ...  0.066581 -0.041867 -0.100473   \n",
              "199 -0.025904  0.096089 -0.107809  ...  0.036603 -0.113806  0.095610   \n",
              "\n",
              "          193       194       195       196       197       198       199  \n",
              "0   -0.027630 -0.054150  0.062293  0.064609 -0.057318 -0.109421  0.073956  \n",
              "1   -0.002391  0.027619 -0.012039 -0.013601  0.064382  0.054960 -0.102778  \n",
              "2   -0.067520 -0.009419  0.091136 -0.030770 -0.093278  0.083264 -0.060287  \n",
              "3    0.061188  0.007212  0.156800 -0.067908  0.069285  0.024009  0.114751  \n",
              "4    0.064460  0.021265 -0.088652 -0.059332 -0.041356 -0.051213  0.029370  \n",
              "..        ...       ...       ...       ...       ...       ...       ...  \n",
              "195  0.048311  0.078135  0.057889  0.053578  0.019872 -0.004723  0.023444  \n",
              "196 -0.198188  0.011253  0.024506 -0.015011  0.082981 -0.039757 -0.058684  \n",
              "197 -0.035749 -0.028681  0.069208 -0.000424 -0.025518 -0.022458  0.024295  \n",
              "198 -0.003806  0.048199 -0.155181  0.193190  0.045173 -0.023558  0.025809  \n",
              "199 -0.046850 -0.025720  0.096096  0.132609  0.069407 -0.014300 -0.078751  \n",
              "\n",
              "[200 rows x 200 columns]"
            ],
            "text/html": [
              "\n",
              "  <div id=\"df-d6ca4049-8ee2-4ed9-9be6-5634baacb82f\">\n",
              "    <div class=\"colab-df-container\">\n",
              "      <div>\n",
              "<style scoped>\n",
              "    .dataframe tbody tr th:only-of-type {\n",
              "        vertical-align: middle;\n",
              "    }\n",
              "\n",
              "    .dataframe tbody tr th {\n",
              "        vertical-align: top;\n",
              "    }\n",
              "\n",
              "    .dataframe thead th {\n",
              "        text-align: right;\n",
              "    }\n",
              "</style>\n",
              "<table border=\"1\" class=\"dataframe\">\n",
              "  <thead>\n",
              "    <tr style=\"text-align: right;\">\n",
              "      <th></th>\n",
              "      <th>0</th>\n",
              "      <th>1</th>\n",
              "      <th>2</th>\n",
              "      <th>3</th>\n",
              "      <th>4</th>\n",
              "      <th>5</th>\n",
              "      <th>6</th>\n",
              "      <th>7</th>\n",
              "      <th>8</th>\n",
              "      <th>9</th>\n",
              "      <th>...</th>\n",
              "      <th>190</th>\n",
              "      <th>191</th>\n",
              "      <th>192</th>\n",
              "      <th>193</th>\n",
              "      <th>194</th>\n",
              "      <th>195</th>\n",
              "      <th>196</th>\n",
              "      <th>197</th>\n",
              "      <th>198</th>\n",
              "      <th>199</th>\n",
              "    </tr>\n",
              "  </thead>\n",
              "  <tbody>\n",
              "    <tr>\n",
              "      <th>0</th>\n",
              "      <td>0.113597</td>\n",
              "      <td>0.104157</td>\n",
              "      <td>0.121453</td>\n",
              "      <td>0.015592</td>\n",
              "      <td>0.007613</td>\n",
              "      <td>0.044729</td>\n",
              "      <td>0.131468</td>\n",
              "      <td>-0.017531</td>\n",
              "      <td>0.050159</td>\n",
              "      <td>-0.098026</td>\n",
              "      <td>...</td>\n",
              "      <td>0.106239</td>\n",
              "      <td>0.094753</td>\n",
              "      <td>-0.084270</td>\n",
              "      <td>-0.027630</td>\n",
              "      <td>-0.054150</td>\n",
              "      <td>0.062293</td>\n",
              "      <td>0.064609</td>\n",
              "      <td>-0.057318</td>\n",
              "      <td>-0.109421</td>\n",
              "      <td>0.073956</td>\n",
              "    </tr>\n",
              "    <tr>\n",
              "      <th>1</th>\n",
              "      <td>0.043750</td>\n",
              "      <td>0.008162</td>\n",
              "      <td>0.010329</td>\n",
              "      <td>0.150598</td>\n",
              "      <td>0.011088</td>\n",
              "      <td>-0.099539</td>\n",
              "      <td>-0.041088</td>\n",
              "      <td>0.071406</td>\n",
              "      <td>0.116530</td>\n",
              "      <td>0.117512</td>\n",
              "      <td>...</td>\n",
              "      <td>0.151918</td>\n",
              "      <td>0.040089</td>\n",
              "      <td>-0.000391</td>\n",
              "      <td>-0.002391</td>\n",
              "      <td>0.027619</td>\n",
              "      <td>-0.012039</td>\n",
              "      <td>-0.013601</td>\n",
              "      <td>0.064382</td>\n",
              "      <td>0.054960</td>\n",
              "      <td>-0.102778</td>\n",
              "    </tr>\n",
              "    <tr>\n",
              "      <th>2</th>\n",
              "      <td>0.084980</td>\n",
              "      <td>0.035149</td>\n",
              "      <td>0.007964</td>\n",
              "      <td>0.020716</td>\n",
              "      <td>0.118882</td>\n",
              "      <td>-0.010152</td>\n",
              "      <td>0.029953</td>\n",
              "      <td>0.107580</td>\n",
              "      <td>0.008252</td>\n",
              "      <td>-0.008949</td>\n",
              "      <td>...</td>\n",
              "      <td>0.002598</td>\n",
              "      <td>0.029451</td>\n",
              "      <td>0.025540</td>\n",
              "      <td>-0.067520</td>\n",
              "      <td>-0.009419</td>\n",
              "      <td>0.091136</td>\n",
              "      <td>-0.030770</td>\n",
              "      <td>-0.093278</td>\n",
              "      <td>0.083264</td>\n",
              "      <td>-0.060287</td>\n",
              "    </tr>\n",
              "    <tr>\n",
              "      <th>3</th>\n",
              "      <td>0.082712</td>\n",
              "      <td>0.044227</td>\n",
              "      <td>0.060638</td>\n",
              "      <td>-0.011923</td>\n",
              "      <td>0.135716</td>\n",
              "      <td>-0.051260</td>\n",
              "      <td>0.023457</td>\n",
              "      <td>0.031148</td>\n",
              "      <td>-0.013359</td>\n",
              "      <td>0.057264</td>\n",
              "      <td>...</td>\n",
              "      <td>-0.021604</td>\n",
              "      <td>0.027384</td>\n",
              "      <td>-0.001440</td>\n",
              "      <td>0.061188</td>\n",
              "      <td>0.007212</td>\n",
              "      <td>0.156800</td>\n",
              "      <td>-0.067908</td>\n",
              "      <td>0.069285</td>\n",
              "      <td>0.024009</td>\n",
              "      <td>0.114751</td>\n",
              "    </tr>\n",
              "    <tr>\n",
              "      <th>4</th>\n",
              "      <td>0.050322</td>\n",
              "      <td>-0.065474</td>\n",
              "      <td>-0.001771</td>\n",
              "      <td>0.082787</td>\n",
              "      <td>0.040367</td>\n",
              "      <td>-0.061982</td>\n",
              "      <td>-0.068438</td>\n",
              "      <td>0.092750</td>\n",
              "      <td>0.126300</td>\n",
              "      <td>-0.037101</td>\n",
              "      <td>...</td>\n",
              "      <td>-0.000374</td>\n",
              "      <td>-0.130377</td>\n",
              "      <td>0.078717</td>\n",
              "      <td>0.064460</td>\n",
              "      <td>0.021265</td>\n",
              "      <td>-0.088652</td>\n",
              "      <td>-0.059332</td>\n",
              "      <td>-0.041356</td>\n",
              "      <td>-0.051213</td>\n",
              "      <td>0.029370</td>\n",
              "    </tr>\n",
              "    <tr>\n",
              "      <th>...</th>\n",
              "      <td>...</td>\n",
              "      <td>...</td>\n",
              "      <td>...</td>\n",
              "      <td>...</td>\n",
              "      <td>...</td>\n",
              "      <td>...</td>\n",
              "      <td>...</td>\n",
              "      <td>...</td>\n",
              "      <td>...</td>\n",
              "      <td>...</td>\n",
              "      <td>...</td>\n",
              "      <td>...</td>\n",
              "      <td>...</td>\n",
              "      <td>...</td>\n",
              "      <td>...</td>\n",
              "      <td>...</td>\n",
              "      <td>...</td>\n",
              "      <td>...</td>\n",
              "      <td>...</td>\n",
              "      <td>...</td>\n",
              "      <td>...</td>\n",
              "    </tr>\n",
              "    <tr>\n",
              "      <th>195</th>\n",
              "      <td>0.054565</td>\n",
              "      <td>0.067274</td>\n",
              "      <td>-0.125965</td>\n",
              "      <td>-0.030866</td>\n",
              "      <td>-0.032427</td>\n",
              "      <td>0.149264</td>\n",
              "      <td>-0.077228</td>\n",
              "      <td>-0.057014</td>\n",
              "      <td>0.040476</td>\n",
              "      <td>0.038869</td>\n",
              "      <td>...</td>\n",
              "      <td>-0.091735</td>\n",
              "      <td>0.011936</td>\n",
              "      <td>0.110477</td>\n",
              "      <td>0.048311</td>\n",
              "      <td>0.078135</td>\n",
              "      <td>0.057889</td>\n",
              "      <td>0.053578</td>\n",
              "      <td>0.019872</td>\n",
              "      <td>-0.004723</td>\n",
              "      <td>0.023444</td>\n",
              "    </tr>\n",
              "    <tr>\n",
              "      <th>196</th>\n",
              "      <td>0.110368</td>\n",
              "      <td>0.060023</td>\n",
              "      <td>0.098094</td>\n",
              "      <td>-0.059940</td>\n",
              "      <td>-0.048013</td>\n",
              "      <td>-0.011002</td>\n",
              "      <td>-0.011874</td>\n",
              "      <td>-0.048637</td>\n",
              "      <td>-0.018413</td>\n",
              "      <td>-0.084940</td>\n",
              "      <td>...</td>\n",
              "      <td>-0.095127</td>\n",
              "      <td>-0.062443</td>\n",
              "      <td>0.067931</td>\n",
              "      <td>-0.198188</td>\n",
              "      <td>0.011253</td>\n",
              "      <td>0.024506</td>\n",
              "      <td>-0.015011</td>\n",
              "      <td>0.082981</td>\n",
              "      <td>-0.039757</td>\n",
              "      <td>-0.058684</td>\n",
              "    </tr>\n",
              "    <tr>\n",
              "      <th>197</th>\n",
              "      <td>-0.109268</td>\n",
              "      <td>-0.101245</td>\n",
              "      <td>0.066551</td>\n",
              "      <td>-0.059768</td>\n",
              "      <td>-0.126740</td>\n",
              "      <td>-0.112516</td>\n",
              "      <td>0.072070</td>\n",
              "      <td>0.051541</td>\n",
              "      <td>0.064742</td>\n",
              "      <td>0.012418</td>\n",
              "      <td>...</td>\n",
              "      <td>-0.073925</td>\n",
              "      <td>0.165777</td>\n",
              "      <td>0.150092</td>\n",
              "      <td>-0.035749</td>\n",
              "      <td>-0.028681</td>\n",
              "      <td>0.069208</td>\n",
              "      <td>-0.000424</td>\n",
              "      <td>-0.025518</td>\n",
              "      <td>-0.022458</td>\n",
              "      <td>0.024295</td>\n",
              "    </tr>\n",
              "    <tr>\n",
              "      <th>198</th>\n",
              "      <td>-0.019509</td>\n",
              "      <td>-0.040284</td>\n",
              "      <td>-0.074005</td>\n",
              "      <td>0.002635</td>\n",
              "      <td>0.038158</td>\n",
              "      <td>-0.100263</td>\n",
              "      <td>-0.089556</td>\n",
              "      <td>-0.009310</td>\n",
              "      <td>-0.042282</td>\n",
              "      <td>-0.057581</td>\n",
              "      <td>...</td>\n",
              "      <td>0.066581</td>\n",
              "      <td>-0.041867</td>\n",
              "      <td>-0.100473</td>\n",
              "      <td>-0.003806</td>\n",
              "      <td>0.048199</td>\n",
              "      <td>-0.155181</td>\n",
              "      <td>0.193190</td>\n",
              "      <td>0.045173</td>\n",
              "      <td>-0.023558</td>\n",
              "      <td>0.025809</td>\n",
              "    </tr>\n",
              "    <tr>\n",
              "      <th>199</th>\n",
              "      <td>-0.039604</td>\n",
              "      <td>-0.036256</td>\n",
              "      <td>-0.108151</td>\n",
              "      <td>0.003353</td>\n",
              "      <td>-0.080168</td>\n",
              "      <td>-0.093987</td>\n",
              "      <td>0.022923</td>\n",
              "      <td>-0.025904</td>\n",
              "      <td>0.096089</td>\n",
              "      <td>-0.107809</td>\n",
              "      <td>...</td>\n",
              "      <td>0.036603</td>\n",
              "      <td>-0.113806</td>\n",
              "      <td>0.095610</td>\n",
              "      <td>-0.046850</td>\n",
              "      <td>-0.025720</td>\n",
              "      <td>0.096096</td>\n",
              "      <td>0.132609</td>\n",
              "      <td>0.069407</td>\n",
              "      <td>-0.014300</td>\n",
              "      <td>-0.078751</td>\n",
              "    </tr>\n",
              "  </tbody>\n",
              "</table>\n",
              "<p>200 rows × 200 columns</p>\n",
              "</div>\n",
              "      <button class=\"colab-df-convert\" onclick=\"convertToInteractive('df-d6ca4049-8ee2-4ed9-9be6-5634baacb82f')\"\n",
              "              title=\"Convert this dataframe to an interactive table.\"\n",
              "              style=\"display:none;\">\n",
              "        \n",
              "  <svg xmlns=\"http://www.w3.org/2000/svg\" height=\"24px\"viewBox=\"0 0 24 24\"\n",
              "       width=\"24px\">\n",
              "    <path d=\"M0 0h24v24H0V0z\" fill=\"none\"/>\n",
              "    <path d=\"M18.56 5.44l.94 2.06.94-2.06 2.06-.94-2.06-.94-.94-2.06-.94 2.06-2.06.94zm-11 1L8.5 8.5l.94-2.06 2.06-.94-2.06-.94L8.5 2.5l-.94 2.06-2.06.94zm10 10l.94 2.06.94-2.06 2.06-.94-2.06-.94-.94-2.06-.94 2.06-2.06.94z\"/><path d=\"M17.41 7.96l-1.37-1.37c-.4-.4-.92-.59-1.43-.59-.52 0-1.04.2-1.43.59L10.3 9.45l-7.72 7.72c-.78.78-.78 2.05 0 2.83L4 21.41c.39.39.9.59 1.41.59.51 0 1.02-.2 1.41-.59l7.78-7.78 2.81-2.81c.8-.78.8-2.07 0-2.86zM5.41 20L4 18.59l7.72-7.72 1.47 1.35L5.41 20z\"/>\n",
              "  </svg>\n",
              "      </button>\n",
              "      \n",
              "  <style>\n",
              "    .colab-df-container {\n",
              "      display:flex;\n",
              "      flex-wrap:wrap;\n",
              "      gap: 12px;\n",
              "    }\n",
              "\n",
              "    .colab-df-convert {\n",
              "      background-color: #E8F0FE;\n",
              "      border: none;\n",
              "      border-radius: 50%;\n",
              "      cursor: pointer;\n",
              "      display: none;\n",
              "      fill: #1967D2;\n",
              "      height: 32px;\n",
              "      padding: 0 0 0 0;\n",
              "      width: 32px;\n",
              "    }\n",
              "\n",
              "    .colab-df-convert:hover {\n",
              "      background-color: #E2EBFA;\n",
              "      box-shadow: 0px 1px 2px rgba(60, 64, 67, 0.3), 0px 1px 3px 1px rgba(60, 64, 67, 0.15);\n",
              "      fill: #174EA6;\n",
              "    }\n",
              "\n",
              "    [theme=dark] .colab-df-convert {\n",
              "      background-color: #3B4455;\n",
              "      fill: #D2E3FC;\n",
              "    }\n",
              "\n",
              "    [theme=dark] .colab-df-convert:hover {\n",
              "      background-color: #434B5C;\n",
              "      box-shadow: 0px 1px 3px 1px rgba(0, 0, 0, 0.15);\n",
              "      filter: drop-shadow(0px 1px 2px rgba(0, 0, 0, 0.3));\n",
              "      fill: #FFFFFF;\n",
              "    }\n",
              "  </style>\n",
              "\n",
              "      <script>\n",
              "        const buttonEl =\n",
              "          document.querySelector('#df-d6ca4049-8ee2-4ed9-9be6-5634baacb82f button.colab-df-convert');\n",
              "        buttonEl.style.display =\n",
              "          google.colab.kernel.accessAllowed ? 'block' : 'none';\n",
              "\n",
              "        async function convertToInteractive(key) {\n",
              "          const element = document.querySelector('#df-d6ca4049-8ee2-4ed9-9be6-5634baacb82f');\n",
              "          const dataTable =\n",
              "            await google.colab.kernel.invokeFunction('convertToInteractive',\n",
              "                                                     [key], {});\n",
              "          if (!dataTable) return;\n",
              "\n",
              "          const docLinkHtml = 'Like what you see? Visit the ' +\n",
              "            '<a target=\"_blank\" href=https://colab.research.google.com/notebooks/data_table.ipynb>data table notebook</a>'\n",
              "            + ' to learn more about interactive tables.';\n",
              "          element.innerHTML = '';\n",
              "          dataTable['output_type'] = 'display_data';\n",
              "          await google.colab.output.renderOutput(dataTable, element);\n",
              "          const docLink = document.createElement('div');\n",
              "          docLink.innerHTML = docLinkHtml;\n",
              "          element.appendChild(docLink);\n",
              "        }\n",
              "      </script>\n",
              "    </div>\n",
              "  </div>\n",
              "  "
            ]
          },
          "metadata": {},
          "execution_count": 10
        }
      ]
    },
    {
      "cell_type": "code",
      "source": [
        "print('Eigen Values \\n')\n",
        "pca.explained_variance_"
      ],
      "metadata": {
        "colab": {
          "base_uri": "https://localhost:8080/"
        },
        "id": "ck33vJsNpi0o",
        "outputId": "aa70fdeb-2587-4a90-f229-3908c8b10922"
      },
      "execution_count": null,
      "outputs": [
        {
          "output_type": "stream",
          "name": "stdout",
          "text": [
            "Eigen Values \n",
            "\n"
          ]
        },
        {
          "output_type": "execute_result",
          "data": {
            "text/plain": [
              "array([1.22262234, 1.06053954, 1.05972959, 1.05935073, 1.0575937 ,\n",
              "       1.05654297, 1.0559005 , 1.05485824, 1.05313637, 1.05257194,\n",
              "       1.05111478, 1.04999324, 1.04921006, 1.04737953, 1.04716789,\n",
              "       1.04701259, 1.04545951, 1.04476914, 1.04385827, 1.04365811,\n",
              "       1.04299901, 1.04204096, 1.0414636 , 1.04048843, 1.03995595,\n",
              "       1.03890486, 1.03860306, 1.03851713, 1.03749788, 1.03670249,\n",
              "       1.03658377, 1.03566556, 1.03479383, 1.03384782, 1.03326951,\n",
              "       1.03319983, 1.03248886, 1.03195852, 1.0309419 , 1.03067649,\n",
              "       1.02990242, 1.02900016, 1.02852291, 1.02822644, 1.0274121 ,\n",
              "       1.02689753, 1.02637062, 1.02581013, 1.02557472, 1.02503239,\n",
              "       1.02381844, 1.02355427, 1.0232799 , 1.02301112, 1.02188709,\n",
              "       1.02126759, 1.0211813 , 1.02063701, 1.02026613, 1.01965   ,\n",
              "       1.01907104, 1.01854184, 1.0182283 , 1.0176045 , 1.0167947 ,\n",
              "       1.01610475, 1.01584493, 1.01516059, 1.01441063, 1.01378303,\n",
              "       1.01358793, 1.01269186, 1.01245016, 1.01183589, 1.01128018,\n",
              "       1.01090384, 1.01041921, 1.01014281, 1.00928613, 1.00869482,\n",
              "       1.00851672, 1.00794265, 1.00779105, 1.00679646, 1.00606996,\n",
              "       1.00570021, 1.00539668, 1.0048006 , 1.00426816, 1.00392805,\n",
              "       1.00356496, 1.00280681, 1.00266494, 1.00181833, 1.00113397,\n",
              "       1.00064462, 1.00049724, 0.99969127, 0.99859262, 0.99841081,\n",
              "       0.99787824, 0.99750276, 0.99723305, 0.99667143, 0.99630737,\n",
              "       0.99555259, 0.99534838, 0.99469109, 0.99371453, 0.9934632 ,\n",
              "       0.99289998, 0.99253626, 0.99218451, 0.99155359, 0.99126955,\n",
              "       0.99079066, 0.99002579, 0.98976774, 0.98935524, 0.98888568,\n",
              "       0.98809303, 0.98785842, 0.98719019, 0.98703409, 0.98623001,\n",
              "       0.98598668, 0.98546381, 0.98530957, 0.98447696, 0.98415332,\n",
              "       0.98388818, 0.9829574 , 0.98255027, 0.98218616, 0.98155612,\n",
              "       0.98103326, 0.9808514 , 0.98019197, 0.97993707, 0.9793895 ,\n",
              "       0.97881908, 0.97774804, 0.97748592, 0.97708138, 0.97594259,\n",
              "       0.97514012, 0.97464332, 0.97449746, 0.97403602, 0.97364105,\n",
              "       0.97291273, 0.9722933 , 0.97190169, 0.97141468, 0.97102479,\n",
              "       0.97013318, 0.96979169, 0.96929237, 0.96903495, 0.96848643,\n",
              "       0.96819683, 0.96714312, 0.96680494, 0.96645371, 0.96588198,\n",
              "       0.96568392, 0.96470969, 0.96347799, 0.96305458, 0.96267384,\n",
              "       0.96224229, 0.96164866, 0.96128001, 0.96051979, 0.96018045,\n",
              "       0.95975719, 0.95879623, 0.95868719, 0.95764697, 0.95674886,\n",
              "       0.95585237, 0.95557815, 0.95500635, 0.95418149, 0.95302692,\n",
              "       0.95235229, 0.95206625, 0.95128629, 0.95043082, 0.94954282,\n",
              "       0.94840852, 0.94801412, 0.94690907, 0.94626034, 0.9455703 ,\n",
              "       0.94346696, 0.9426749 , 0.9398077 , 0.93929554, 0.93814673])"
            ]
          },
          "metadata": {},
          "execution_count": 11
        }
      ]
    },
    {
      "cell_type": "code",
      "source": [
        "print('The variance explained by each of eigen values in order is  \\n')\n",
        "pca.explained_variance_ratio_*100"
      ],
      "metadata": {
        "colab": {
          "base_uri": "https://localhost:8080/"
        },
        "id": "iFoeOnYkpqbU",
        "outputId": "f8028706-fd4c-43af-8d60-f8d170b7586b"
      },
      "execution_count": null,
      "outputs": [
        {
          "output_type": "stream",
          "name": "stdout",
          "text": [
            "The variance explained by each of eigen values in order is  \n",
            "\n"
          ]
        },
        {
          "output_type": "execute_result",
          "data": {
            "text/plain": [
              "array([0.61130811, 0.53026712, 0.52986214, 0.52967272, 0.52879421,\n",
              "       0.52826884, 0.52794761, 0.52742648, 0.52656555, 0.52628334,\n",
              "       0.52555476, 0.52499399, 0.52460241, 0.52368715, 0.52358133,\n",
              "       0.52350368, 0.52272714, 0.52238196, 0.52192652, 0.52182644,\n",
              "       0.5214969 , 0.52101787, 0.52072919, 0.52024161, 0.51997538,\n",
              "       0.51944983, 0.51929893, 0.51925597, 0.51874634, 0.51834866,\n",
              "       0.51828929, 0.51783019, 0.51739433, 0.51692133, 0.51663217,\n",
              "       0.51659733, 0.51624185, 0.51597668, 0.51546837, 0.51533567,\n",
              "       0.51494864, 0.51449751, 0.51425888, 0.51411065, 0.51370348,\n",
              "       0.5134462 , 0.51318274, 0.5129025 , 0.51278479, 0.51251363,\n",
              "       0.51190666, 0.51177458, 0.51163739, 0.511503  , 0.51094099,\n",
              "       0.51063124, 0.5105881 , 0.51031596, 0.51013051, 0.50982245,\n",
              "       0.50953297, 0.50926838, 0.50911161, 0.50879971, 0.50839481,\n",
              "       0.50804983, 0.50791993, 0.50757776, 0.50720278, 0.50688898,\n",
              "       0.50679143, 0.5063434 , 0.50622255, 0.50591542, 0.50563756,\n",
              "       0.50544939, 0.50520708, 0.50506888, 0.50464054, 0.50434489,\n",
              "       0.50425584, 0.5039688 , 0.50389301, 0.50339571, 0.50303247,\n",
              "       0.50284759, 0.50269583, 0.50239779, 0.50213157, 0.50196152,\n",
              "       0.50177997, 0.5014009 , 0.50132996, 0.50090666, 0.50056448,\n",
              "       0.50031981, 0.50024612, 0.49984314, 0.49929381, 0.49920291,\n",
              "       0.49893663, 0.49874889, 0.49861403, 0.49833322, 0.49815119,\n",
              "       0.49777381, 0.4976717 , 0.49734306, 0.49685478, 0.49672912,\n",
              "       0.49644751, 0.49626565, 0.49608977, 0.49577432, 0.4956323 ,\n",
              "       0.49539285, 0.49501042, 0.4948814 , 0.49467515, 0.49444037,\n",
              "       0.49404404, 0.49392674, 0.49359263, 0.49351457, 0.49311254,\n",
              "       0.49299088, 0.49272944, 0.49265232, 0.49223602, 0.4920742 ,\n",
              "       0.49194163, 0.49147624, 0.49127268, 0.49109063, 0.49077561,\n",
              "       0.49051418, 0.49042325, 0.49009354, 0.48996608, 0.4896923 ,\n",
              "       0.48940709, 0.48887157, 0.48874052, 0.48853824, 0.48796886,\n",
              "       0.48756762, 0.48731922, 0.48724629, 0.48701557, 0.48681809,\n",
              "       0.48645393, 0.48614422, 0.48594841, 0.48570491, 0.48550997,\n",
              "       0.48506417, 0.48489342, 0.48464376, 0.48451505, 0.48424079,\n",
              "       0.484096  , 0.48356914, 0.48340005, 0.48322444, 0.48293858,\n",
              "       0.48283954, 0.48235243, 0.48173659, 0.48152488, 0.48133452,\n",
              "       0.48111874, 0.48082193, 0.4806376 , 0.48025749, 0.48008783,\n",
              "       0.4798762 , 0.47939572, 0.4793412 , 0.47882109, 0.47837204,\n",
              "       0.47792379, 0.47778669, 0.47750079, 0.47708836, 0.47651108,\n",
              "       0.47617376, 0.47603075, 0.47564077, 0.47521303, 0.47476904,\n",
              "       0.47420189, 0.47400469, 0.47345217, 0.4731278 , 0.47278279,\n",
              "       0.47173112, 0.4713351 , 0.4699015 , 0.46964542, 0.46907102])"
            ]
          },
          "metadata": {},
          "execution_count": 12
        }
      ]
    },
    {
      "cell_type": "code",
      "source": [
        "print(\"Cumulative Variance Explained /n\")\n",
        "var=np.cumsum(np.round(pca.explained_variance_ratio_, decimals=3)*100)\n",
        "var #cumulative sum of variance explained with [n] features"
      ],
      "metadata": {
        "colab": {
          "base_uri": "https://localhost:8080/"
        },
        "id": "QG6ibdr6pwYW",
        "outputId": "1cbb4228-f255-4a07-b41d-c91a1b690b74"
      },
      "execution_count": null,
      "outputs": [
        {
          "output_type": "stream",
          "name": "stdout",
          "text": [
            "Cumulative Variance Explained /n\n"
          ]
        },
        {
          "output_type": "execute_result",
          "data": {
            "text/plain": [
              "array([  0.6,   1.1,   1.6,   2.1,   2.6,   3.1,   3.6,   4.1,   4.6,\n",
              "         5.1,   5.6,   6.1,   6.6,   7.1,   7.6,   8.1,   8.6,   9.1,\n",
              "         9.6,  10.1,  10.6,  11.1,  11.6,  12.1,  12.6,  13.1,  13.6,\n",
              "        14.1,  14.6,  15.1,  15.6,  16.1,  16.6,  17.1,  17.6,  18.1,\n",
              "        18.6,  19.1,  19.6,  20.1,  20.6,  21.1,  21.6,  22.1,  22.6,\n",
              "        23.1,  23.6,  24.1,  24.6,  25.1,  25.6,  26.1,  26.6,  27.1,\n",
              "        27.6,  28.1,  28.6,  29.1,  29.6,  30.1,  30.6,  31.1,  31.6,\n",
              "        32.1,  32.6,  33.1,  33.6,  34.1,  34.6,  35.1,  35.6,  36.1,\n",
              "        36.6,  37.1,  37.6,  38.1,  38.6,  39.1,  39.6,  40.1,  40.6,\n",
              "        41.1,  41.6,  42.1,  42.6,  43.1,  43.6,  44.1,  44.6,  45.1,\n",
              "        45.6,  46.1,  46.6,  47.1,  47.6,  48.1,  48.6,  49.1,  49.6,\n",
              "        50.1,  50.6,  51.1,  51.6,  52.1,  52.6,  53.1,  53.6,  54.1,\n",
              "        54.6,  55.1,  55.6,  56.1,  56.6,  57.1,  57.6,  58.1,  58.6,\n",
              "        59.1,  59.6,  60.1,  60.6,  61.1,  61.6,  62.1,  62.6,  63.1,\n",
              "        63.6,  64.1,  64.6,  65.1,  65.6,  66.1,  66.6,  67.1,  67.6,\n",
              "        68.1,  68.6,  69.1,  69.6,  70.1,  70.6,  71.1,  71.6,  72.1,\n",
              "        72.6,  73.1,  73.6,  74.1,  74.6,  75.1,  75.6,  76.1,  76.6,\n",
              "        77.1,  77.6,  78.1,  78.6,  79.1,  79.6,  80.1,  80.6,  81.1,\n",
              "        81.6,  82.1,  82.6,  83.1,  83.6,  84.1,  84.6,  85.1,  85.6,\n",
              "        86.1,  86.6,  87.1,  87.6,  88.1,  88.6,  89.1,  89.6,  90.1,\n",
              "        90.6,  91.1,  91.6,  92.1,  92.6,  93.1,  93.6,  94.1,  94.6,\n",
              "        95.1,  95.6,  96.1,  96.6,  97.1,  97.6,  98.1,  98.6,  99.1,\n",
              "        99.6, 100.1])"
            ]
          },
          "metadata": {},
          "execution_count": 13
        }
      ]
    },
    {
      "cell_type": "markdown",
      "source": [
        "Based on the data, it is observed that PCA cannot be used to reduce the features due to very low correlation between the variables. Hence, this is not taken up. "
      ],
      "metadata": {
        "id": "KY86eyGWqKGD"
      }
    },
    {
      "cell_type": "markdown",
      "metadata": {
        "id": "oOUNnSjSgTmA"
      },
      "source": [
        "#2. Model Training"
      ]
    },
    {
      "cell_type": "markdown",
      "metadata": {
        "id": "t-JXd9Tdm3dL"
      },
      "source": [
        "##2.1. Model 1 - Logistic regression with top 10 IV variables"
      ]
    },
    {
      "cell_type": "code",
      "execution_count": null,
      "metadata": {
        "id": "0J3OndMi8hPz"
      },
      "outputs": [],
      "source": [
        "features_log_reg = iv_subset1.sort_values(by = ['IV'],ascending = False).iloc[:10]['Variable']\n",
        "features_log_reg[11] = \"target\""
      ]
    },
    {
      "cell_type": "code",
      "execution_count": null,
      "metadata": {
        "id": "C5jecXEsnVG1"
      },
      "outputs": [],
      "source": [
        "train_1 = pd.DataFrame(train, columns = features_log_reg)"
      ]
    },
    {
      "cell_type": "code",
      "execution_count": null,
      "metadata": {
        "id": "rU1Q8L-JnEqa"
      },
      "outputs": [],
      "source": [
        "X_train, X_test, y_train, y_test = train_test_split(train_1.drop('target',axis=1), \n",
        "                                                    train_1['target'], test_size=0.30, \n",
        "                                                    random_state=101)"
      ]
    },
    {
      "cell_type": "code",
      "execution_count": null,
      "metadata": {
        "id": "-721xUJaalEu"
      },
      "outputs": [],
      "source": [
        "logmodel = LogisticRegression(solver='lbfgs',max_iter=2000)"
      ]
    },
    {
      "cell_type": "code",
      "execution_count": null,
      "metadata": {
        "colab": {
          "base_uri": "https://localhost:8080/"
        },
        "id": "wr3l8kuuc9wb",
        "outputId": "28ec4c42-c6b8-486b-80cc-0929830b8288"
      },
      "outputs": [
        {
          "data": {
            "text/plain": [
              "LogisticRegression(max_iter=2000)"
            ]
          },
          "execution_count": 24,
          "metadata": {},
          "output_type": "execute_result"
        }
      ],
      "source": [
        "logmodel.fit(X_train,y_train)"
      ]
    },
    {
      "cell_type": "code",
      "execution_count": null,
      "metadata": {
        "id": "b8bljtAkgH2t"
      },
      "outputs": [],
      "source": [
        "predictions = logmodel.predict(X_test)"
      ]
    },
    {
      "cell_type": "code",
      "execution_count": null,
      "metadata": {
        "colab": {
          "base_uri": "https://localhost:8080/"
        },
        "id": "Zux5ttCTsvsd",
        "outputId": "5d7e238a-a758-447b-d49d-3220831fbe87"
      },
      "outputs": [
        {
          "name": "stdout",
          "output_type": "stream",
          "text": [
            "              precision    recall  f1-score   support\n",
            "\n",
            "           0       0.90      1.00      0.95     53980\n",
            "           1       0.57      0.00      0.01      6020\n",
            "\n",
            "    accuracy                           0.90     60000\n",
            "   macro avg       0.73      0.50      0.48     60000\n",
            "weighted avg       0.87      0.90      0.85     60000\n",
            "\n"
          ]
        }
      ],
      "source": [
        "print(classification_report(y_test,predictions))"
      ]
    },
    {
      "cell_type": "code",
      "execution_count": null,
      "metadata": {
        "id": "ObreKrOy6lKa"
      },
      "outputs": [],
      "source": [
        "output_logistic = logmodel.predict(pd.DataFrame(test,columns = features_log_reg[:-1]))"
      ]
    },
    {
      "cell_type": "code",
      "execution_count": null,
      "metadata": {
        "id": "nOPzPUrZg-2k"
      },
      "outputs": [],
      "source": [
        "submission_1 = pd.concat([test['ID_code'], output_logistic.rename('target')], axis=1)"
      ]
    },
    {
      "cell_type": "code",
      "execution_count": null,
      "metadata": {
        "id": "1EK0BD4ci7yj"
      },
      "outputs": [],
      "source": [
        "submission_1.to_csv('/content/drive/MyDrive/Colab Notebooks/Kaggle/Santander/submission1.csv',index=False)"
      ]
    },
    {
      "cell_type": "markdown",
      "metadata": {
        "id": "RC-Uh--IxlRE"
      },
      "source": [
        "##2.2. Changing the cut-off in model submission 1"
      ]
    },
    {
      "cell_type": "code",
      "execution_count": null,
      "metadata": {
        "colab": {
          "base_uri": "https://localhost:8080/"
        },
        "id": "ivXTFbTzyzh7",
        "outputId": "757d15b7-8a9e-470d-b5cb-3ea216b6c51b"
      },
      "outputs": [
        {
          "data": {
            "text/plain": [
              "13588     1\n",
              "29803     0\n",
              "58151     0\n",
              "68799     0\n",
              "58018     0\n",
              "         ..\n",
              "116478    0\n",
              "111123    0\n",
              "7744      0\n",
              "180443    0\n",
              "77811     0\n",
              "Name: target, Length: 60000, dtype: int64"
            ]
          },
          "execution_count": 34,
          "metadata": {},
          "output_type": "execute_result"
        }
      ],
      "source": [
        "y_test"
      ]
    },
    {
      "cell_type": "code",
      "execution_count": null,
      "metadata": {
        "colab": {
          "base_uri": "https://localhost:8080/"
        },
        "id": "TY_UOo0dxj8a",
        "outputId": "8cd19f9e-5a19-4522-9afd-2d32280ca97b"
      },
      "outputs": [
        {
          "name": "stdout",
          "output_type": "stream",
          "text": [
            "\n",
            "******** For i = 0.05 ******\n",
            "Our testing accuracy is 0.28413333333333335\n",
            "[[11564 42416]\n",
            " [  536  5484]]\n",
            "\n",
            "******** For i = 0.1 ******\n",
            "Our testing accuracy is 0.6311166666666667\n",
            "[[34121 19859]\n",
            " [ 2274  3746]]\n",
            "\n",
            "******** For i = 0.15 ******\n",
            "Our testing accuracy is 0.7996166666666666\n",
            "[[45712  8268]\n",
            " [ 3755  2265]]\n",
            "\n",
            "******** For i = 0.2 ******\n",
            "Our testing accuracy is 0.8640333333333333\n",
            "[[50586  3394]\n",
            " [ 4764  1256]]\n",
            "\n",
            "******** For i = 0.25 ******\n",
            "Our testing accuracy is 0.8880166666666667\n",
            "[[52598  1382]\n",
            " [ 5337   683]]\n",
            "\n",
            "******** For i = 0.3 ******\n",
            "Our testing accuracy is 0.8964666666666666\n",
            "[[53423   557]\n",
            " [ 5655   365]]\n",
            "\n",
            "******** For i = 0.35 ******\n",
            "Our testing accuracy is 0.89895\n",
            "[[53754   226]\n",
            " [ 5837   183]]\n",
            "\n",
            "******** For i = 0.4 ******\n",
            "Our testing accuracy is 0.8997166666666667\n",
            "[[53895    85]\n",
            " [ 5932    88]]\n",
            "\n",
            "******** For i = 0.45 ******\n",
            "Our testing accuracy is 0.89995\n",
            "[[53951    29]\n",
            " [ 5974    46]]\n",
            "\n",
            "******** For i = 0.5 ******\n",
            "Our testing accuracy is 0.8998166666666667\n",
            "[[53966    14]\n",
            " [ 5997    23]]\n",
            "\n",
            "******** For i = 0.55 ******\n",
            "Our testing accuracy is 0.8997833333333334\n",
            "[[53978     2]\n",
            " [ 6011     9]]\n",
            "\n",
            "******** For i = 0.6 ******\n",
            "Our testing accuracy is 0.8997\n",
            "[[53979     1]\n",
            " [ 6017     3]]\n",
            "\n",
            "******** For i = 0.65 ******\n",
            "Our testing accuracy is 0.8996833333333333\n",
            "[[53979     1]\n",
            " [ 6018     2]]\n",
            "\n",
            "******** For i = 0.7 ******\n",
            "Our testing accuracy is 0.89965\n",
            "[[53979     1]\n",
            " [ 6020     0]]\n",
            "\n",
            "******** For i = 0.75 ******\n",
            "Our testing accuracy is 0.8996666666666666\n",
            "[[53980     0]\n",
            " [ 6020     0]]\n",
            "\n",
            "******** For i = 0.8 ******\n",
            "Our testing accuracy is 0.8996666666666666\n",
            "[[53980     0]\n",
            " [ 6020     0]]\n",
            "\n",
            "******** For i = 0.85 ******\n",
            "Our testing accuracy is 0.8996666666666666\n",
            "[[53980     0]\n",
            " [ 6020     0]]\n",
            "\n",
            "******** For i = 0.9 ******\n",
            "Our testing accuracy is 0.8996666666666666\n",
            "[[53980     0]\n",
            " [ 6020     0]]\n",
            "\n",
            "******** For i = 0.95 ******\n",
            "Our testing accuracy is 0.8996666666666666\n",
            "[[53980     0]\n",
            " [ 6020     0]]\n",
            "\n",
            "******** For i = 0.99 ******\n",
            "Our testing accuracy is 0.8996666666666666\n",
            "[[53980     0]\n",
            " [ 6020     0]]\n"
          ]
        }
      ],
      "source": [
        "pred_proba_df = pd.DataFrame(logmodel.predict_proba(X_test))\n",
        "threshold_list = [0.05,0.1,0.15,0.2,0.25,0.3,0.35,0.4,0.45,0.5,0.55,0.6,0.65,.7,.75,.8,.85,.9,.95,.99]\n",
        "for i in threshold_list:\n",
        "    print ('\\n******** For i = {} ******'.format(i))\n",
        "    y_test_pred = pred_proba_df.applymap(lambda x: 1 if x>i else 0)\n",
        "    test_accuracy = accuracy_score(y_test.values.reshape(y_test.values.size,1),\n",
        "                                   y_test_pred.iloc[:,1].values.reshape(y_test_pred.iloc[:,1].values.size,1))\n",
        "    print('Our testing accuracy is {}'.format(test_accuracy))\n",
        "\n",
        "    print(confusion_matrix(y_test.values.reshape(y_test.values.size,1),\n",
        "                           y_test_pred.iloc[:,1].values.reshape(y_test_pred.iloc[:,1].values.size,1)))\n",
        "    print(classification_report(y_test.values.reshape(y_test.values.size,1),\n",
        "                                y_test_pred.iloc[:,1].values.reshape(y_test_pred.iloc[:,1].values.size,1)))"
      ]
    },
    {
      "cell_type": "markdown",
      "metadata": {
        "id": "86YpanCZ8_8N"
      },
      "source": [
        "It is observed from the results that the F1 inceases until i=0.2 and starts reducing beyond that. Thus, 0.2 is taken as the optimal cut-off"
      ]
    },
    {
      "cell_type": "code",
      "execution_count": null,
      "metadata": {
        "id": "eahX55HX50vS"
      },
      "outputs": [],
      "source": [
        "submission_2 = logmodel.predict_proba(pd.DataFrame(test,columns = features_log_reg[:-1]))"
      ]
    },
    {
      "cell_type": "code",
      "execution_count": null,
      "metadata": {
        "colab": {
          "base_uri": "https://localhost:8080/"
        },
        "id": "M3LEyTNj-_mX",
        "outputId": "ca000bb2-ff86-4bcb-bef1-9d2e0038cdae"
      },
      "outputs": [
        {
          "data": {
            "text/plain": [
              "array([0, 1])"
            ]
          },
          "execution_count": 54,
          "metadata": {},
          "output_type": "execute_result"
        }
      ],
      "source": [
        "logmodel.classes_"
      ]
    },
    {
      "cell_type": "markdown",
      "metadata": {
        "id": "b6m-yLHC_Eyn"
      },
      "source": [
        "From the above code, we can see that the output array's second column is the probability corressponding to the output we desire. I.e. 1. Hence, let's extract only that. "
      ]
    },
    {
      "cell_type": "code",
      "execution_count": null,
      "metadata": {
        "id": "uOlPHlSj_W9a"
      },
      "outputs": [],
      "source": [
        "submission_2 = logmodel.predict_proba(pd.DataFrame(test,columns = features_log_reg[:-1]))[:,1]"
      ]
    },
    {
      "cell_type": "code",
      "execution_count": null,
      "metadata": {
        "colab": {
          "base_uri": "https://localhost:8080/"
        },
        "id": "AtnyNleH_fQt",
        "outputId": "6258d452-730c-48c8-deba-6186471112f6"
      },
      "outputs": [
        {
          "data": {
            "text/plain": [
              "array([0.11076373, 0.13926938, 0.09803689, ..., 0.03609585, 0.13127325,\n",
              "       0.13078975])"
            ]
          },
          "execution_count": 60,
          "metadata": {},
          "output_type": "execute_result"
        }
      ],
      "source": [
        "submission_2"
      ]
    },
    {
      "cell_type": "markdown",
      "metadata": {
        "id": "Ix5bypsf_il1"
      },
      "source": [
        "Now only the probabilities of 1 is stored in the output"
      ]
    },
    {
      "cell_type": "code",
      "execution_count": null,
      "metadata": {
        "id": "HX9JqizF8SCr"
      },
      "outputs": [],
      "source": [
        "submission_2 = pd.concat([test['ID_code'], pd.Series(submission_2).rename('target')], axis=1)"
      ]
    },
    {
      "cell_type": "code",
      "execution_count": null,
      "metadata": {
        "id": "VEgxNG3177-v"
      },
      "outputs": [],
      "source": [
        "submission_2['target'] = submission_2['target'].apply(lambda x:1 if x>0.1 else 0)"
      ]
    },
    {
      "cell_type": "code",
      "execution_count": null,
      "metadata": {
        "id": "Hc68BeSCAcYE"
      },
      "outputs": [],
      "source": [
        "submission_2.to_csv('/content/drive/MyDrive/Colab Notebooks/Kaggle/Santander/submission2.csv',index=False)"
      ]
    },
    {
      "cell_type": "markdown",
      "metadata": {
        "id": "fBWbTB_1QSum"
      },
      "source": [
        "##2.3. KNN Algorithm with top 10 variables according to IV"
      ]
    },
    {
      "cell_type": "code",
      "execution_count": null,
      "metadata": {
        "id": "qnpQmf4-6cST"
      },
      "outputs": [],
      "source": [
        "scaler = StandardScaler()"
      ]
    },
    {
      "cell_type": "code",
      "execution_count": null,
      "metadata": {
        "colab": {
          "base_uri": "https://localhost:8080/"
        },
        "id": "kA17JBsx6usB",
        "outputId": "7bcbc6e1-cbc3-48b7-9d43-f0f1a6c7e3ac"
      },
      "outputs": [
        {
          "data": {
            "text/plain": [
              "StandardScaler()"
            ]
          },
          "execution_count": 17,
          "metadata": {},
          "output_type": "execute_result"
        }
      ],
      "source": [
        "scaler.fit(train_1.drop('target',axis=1))"
      ]
    },
    {
      "cell_type": "code",
      "execution_count": null,
      "metadata": {
        "id": "PD0duW0g62B8"
      },
      "outputs": [],
      "source": [
        "scaled_features = scaler.transform(train_1.drop('target',axis=1))"
      ]
    },
    {
      "cell_type": "code",
      "execution_count": null,
      "metadata": {
        "id": "W3wIimOd7qdc"
      },
      "outputs": [],
      "source": [
        "train_1_feat = pd.DataFrame(scaled_features,columns=train_1.columns[:-1])"
      ]
    },
    {
      "cell_type": "code",
      "execution_count": null,
      "metadata": {
        "id": "FzYc9O937YhO"
      },
      "outputs": [],
      "source": [
        "X_train, X_test, y_train, y_test = train_test_split(scaled_features,train_1['target'],\n",
        "                                                    test_size=0.30)"
      ]
    },
    {
      "cell_type": "code",
      "execution_count": null,
      "metadata": {
        "id": "yJA_7S108ORY"
      },
      "outputs": [],
      "source": [
        "knn = KNeighborsClassifier(n_neighbors=1)"
      ]
    },
    {
      "cell_type": "code",
      "execution_count": null,
      "metadata": {
        "colab": {
          "base_uri": "https://localhost:8080/"
        },
        "id": "JXAWYXOt8P1S",
        "outputId": "a9c145ac-fe75-4e7a-d878-485652651fae"
      },
      "outputs": [
        {
          "data": {
            "text/plain": [
              "KNeighborsClassifier(n_neighbors=1)"
            ]
          },
          "execution_count": 24,
          "metadata": {},
          "output_type": "execute_result"
        }
      ],
      "source": [
        "knn.fit(X_train,y_train)"
      ]
    },
    {
      "cell_type": "code",
      "execution_count": null,
      "metadata": {
        "id": "kUbEGRsz8VF0"
      },
      "outputs": [],
      "source": [
        "pred = knn.predict(X_test)"
      ]
    },
    {
      "cell_type": "code",
      "execution_count": null,
      "metadata": {
        "colab": {
          "base_uri": "https://localhost:8080/"
        },
        "id": "Yg4E2ZGH8sDZ",
        "outputId": "6bb6823f-181e-4b92-b556-a79995ca7489"
      },
      "outputs": [
        {
          "name": "stdout",
          "output_type": "stream",
          "text": [
            "[[49408  4588]\n",
            " [ 5180   824]]\n"
          ]
        }
      ],
      "source": [
        "print(confusion_matrix(y_test,pred))"
      ]
    },
    {
      "cell_type": "code",
      "execution_count": null,
      "metadata": {
        "colab": {
          "base_uri": "https://localhost:8080/"
        },
        "id": "J1zRBrt-9NsI",
        "outputId": "15e22a80-fdd7-42cf-a980-30a4e72af60e"
      },
      "outputs": [
        {
          "name": "stdout",
          "output_type": "stream",
          "text": [
            "              precision    recall  f1-score   support\n",
            "\n",
            "           0       0.91      0.92      0.91     53996\n",
            "           1       0.15      0.14      0.14      6004\n",
            "\n",
            "    accuracy                           0.84     60000\n",
            "   macro avg       0.53      0.53      0.53     60000\n",
            "weighted avg       0.83      0.84      0.83     60000\n",
            "\n"
          ]
        }
      ],
      "source": [
        "print(classification_report(y_test,pred))"
      ]
    },
    {
      "cell_type": "code",
      "execution_count": null,
      "metadata": {
        "id": "ZVnjA2A09bc_"
      },
      "outputs": [],
      "source": [
        "error_rate = []\n",
        "\n",
        "for i in range(1,40):\n",
        "    \n",
        "    knn = KNeighborsClassifier(n_neighbors=i)\n",
        "    knn.fit(X_train,y_train)\n",
        "    pred_i = knn.predict(X_test)\n",
        "    error_rate.append(np.mean(pred_i != y_test))"
      ]
    },
    {
      "cell_type": "code",
      "execution_count": null,
      "metadata": {
        "colab": {
          "base_uri": "https://localhost:8080/",
          "height": 421
        },
        "id": "0bZxEGYk9gS6",
        "outputId": "b0400b35-df73-4367-d1a7-9e888db7a85b"
      },
      "outputs": [
        {
          "data": {
            "text/plain": [
              "Text(0, 0.5, 'Error Rate')"
            ]
          },
          "execution_count": 30,
          "metadata": {},
          "output_type": "execute_result"
        },
        {
          "data": {
            "image/png": "[encoded data removed]",
            "text/plain": [
              "<Figure size 720x432 with 1 Axes>"
            ]
          },
          "metadata": {},
          "output_type": "display_data"
        }
      ],
      "source": [
        "plt.figure(figsize=(10,6))\n",
        "plt.plot(range(1,40),error_rate,color='blue', linestyle='dashed', marker='o',\n",
        "         markerfacecolor='red', markersize=10)\n",
        "plt.title('Error Rate vs. K Value')\n",
        "plt.xlabel('K')\n",
        "plt.ylabel('Error Rate')"
      ]
    },
    {
      "cell_type": "code",
      "execution_count": null,
      "metadata": {
        "colab": {
          "base_uri": "https://localhost:8080/"
        },
        "id": "SwbsRWvpKbCI",
        "outputId": "bbf28404-4397-4e74-bf2f-21a93ceb0657"
      },
      "outputs": [
        {
          "name": "stdout",
          "output_type": "stream",
          "text": [
            "WITH K=3\n",
            "\n",
            "\n",
            "[[52708  1288]\n",
            " [ 5615   389]]\n",
            "\n",
            "\n",
            "              precision    recall  f1-score   support\n",
            "\n",
            "           0       0.90      0.98      0.94     53996\n",
            "           1       0.23      0.06      0.10      6004\n",
            "\n",
            "    accuracy                           0.88     60000\n",
            "   macro avg       0.57      0.52      0.52     60000\n",
            "weighted avg       0.84      0.88      0.85     60000\n",
            "\n"
          ]
        }
      ],
      "source": [
        "knn = KNeighborsClassifier(n_neighbors=3)\n",
        "knn.fit(X_train,y_train)\n",
        "pred = knn.predict(X_test)\n",
        "print('WITH K=3')\n",
        "print('\\n')\n",
        "print(confusion_matrix(y_test,pred))\n",
        "print('\\n')\n",
        "print(classification_report(y_test,pred))"
      ]
    },
    {
      "cell_type": "markdown",
      "metadata": {
        "id": "uKUOczZpAYOj"
      },
      "source": [
        "##2.4. Random Forest with variables with IV value >=0.02"
      ]
    },
    {
      "cell_type": "code",
      "execution_count": null,
      "metadata": {
        "id": "S3h2fzGhMVgZ"
      },
      "outputs": [],
      "source": [
        "features_log_reg = iv_subset1['Variable'] # taking all variables that have IV value >= 0.02"
      ]
    },
    {
      "cell_type": "code",
      "execution_count": null,
      "metadata": {
        "colab": {
          "base_uri": "https://localhost:8080/"
        },
        "id": "PWQdHskBMVgb",
        "outputId": "2eb31084-09d1-4fac-cda2-3db388fa74b3"
      },
      "outputs": [
        {
          "output_type": "stream",
          "name": "stderr",
          "text": [
            "<ipython-input-10-a9a33d310e5c>:1: SettingWithCopyWarning: \n",
            "A value is trying to be set on a copy of a slice from a DataFrame\n",
            "\n",
            "See the caveats in the documentation: https://pandas.pydata.org/pandas-docs/stable/user_guide/indexing.html#returning-a-view-versus-a-copy\n",
            "  features_log_reg['target'] = \"target\"\n",
            "/usr/local/lib/python3.8/dist-packages/pandas/core/indexing.py:1724: SettingWithCopyWarning: \n",
            "A value is trying to be set on a copy of a slice from a DataFrame\n",
            "\n",
            "See the caveats in the documentation: https://pandas.pydata.org/pandas-docs/stable/user_guide/indexing.html#returning-a-view-versus-a-copy\n",
            "  self._setitem_with_indexer_missing(indexer, value)\n"
          ]
        }
      ],
      "source": [
        "features_log_reg['target'] = \"target\""
      ]
    },
    {
      "cell_type": "code",
      "execution_count": null,
      "metadata": {
        "id": "rg5ZaQLFNDyj"
      },
      "outputs": [],
      "source": [
        "train_2 = pd.DataFrame(train, columns = features_log_reg)"
      ]
    },
    {
      "cell_type": "code",
      "execution_count": null,
      "metadata": {
        "id": "mMM0qrmsNH03"
      },
      "outputs": [],
      "source": [
        "X_train, X_test, y_train, y_test = train_test_split(train_2.drop('target',axis=1), \n",
        "                                                    train_2['target'], test_size=0.30, \n",
        "                                                    random_state=101)"
      ]
    },
    {
      "cell_type": "code",
      "execution_count": null,
      "metadata": {
        "colab": {
          "base_uri": "https://localhost:8080/",
          "height": 345
        },
        "id": "FVJbJV_hAfUK",
        "outputId": "14662347-7a79-4e35-8eb3-185aacde6344"
      },
      "outputs": [
        {
          "ename": "KeyboardInterrupt",
          "evalue": "ignored",
          "output_type": "error",
          "traceback": [
            "\u001b[0;31m---------------------------------------------------------------------------\u001b[0m",
            "\u001b[0;31mKeyboardInterrupt\u001b[0m                         Traceback (most recent call last)",
            "\u001b[0;32m<ipython-input-17-1f0df70d2245>\u001b[0m in \u001b[0;36m<module>\u001b[0;34m\u001b[0m\n\u001b[1;32m      1\u001b[0m \u001b[0;32mfrom\u001b[0m \u001b[0msklearn\u001b[0m\u001b[0;34m.\u001b[0m\u001b[0mensemble\u001b[0m \u001b[0;32mimport\u001b[0m \u001b[0mRandomForestClassifier\u001b[0m\u001b[0;34m\u001b[0m\u001b[0;34m\u001b[0m\u001b[0m\n\u001b[1;32m      2\u001b[0m \u001b[0mrfc\u001b[0m \u001b[0;34m=\u001b[0m \u001b[0mRandomForestClassifier\u001b[0m\u001b[0;34m(\u001b[0m\u001b[0mn_estimators\u001b[0m\u001b[0;34m=\u001b[0m\u001b[0;36m100\u001b[0m\u001b[0;34m)\u001b[0m\u001b[0;34m\u001b[0m\u001b[0;34m\u001b[0m\u001b[0m\n\u001b[0;32m----> 3\u001b[0;31m \u001b[0mrfc\u001b[0m\u001b[0;34m.\u001b[0m\u001b[0mfit\u001b[0m\u001b[0;34m(\u001b[0m\u001b[0mX_train\u001b[0m\u001b[0;34m,\u001b[0m \u001b[0my_train\u001b[0m\u001b[0;34m)\u001b[0m\u001b[0;34m\u001b[0m\u001b[0;34m\u001b[0m\u001b[0m\n\u001b[0m",
            "\u001b[0;32m/usr/local/lib/python3.8/dist-packages/sklearn/ensemble/_forest.py\u001b[0m in \u001b[0;36mfit\u001b[0;34m(self, X, y, sample_weight)\u001b[0m\n\u001b[1;32m    448\u001b[0m             \u001b[0;31m# parallel_backend contexts set at a higher level,\u001b[0m\u001b[0;34m\u001b[0m\u001b[0;34m\u001b[0m\u001b[0;34m\u001b[0m\u001b[0m\n\u001b[1;32m    449\u001b[0m             \u001b[0;31m# since correctness does not rely on using threads.\u001b[0m\u001b[0;34m\u001b[0m\u001b[0;34m\u001b[0m\u001b[0;34m\u001b[0m\u001b[0m\n\u001b[0;32m--> 450\u001b[0;31m             trees = Parallel(\n\u001b[0m\u001b[1;32m    451\u001b[0m                 \u001b[0mn_jobs\u001b[0m\u001b[0;34m=\u001b[0m\u001b[0mself\u001b[0m\u001b[0;34m.\u001b[0m\u001b[0mn_jobs\u001b[0m\u001b[0;34m,\u001b[0m\u001b[0;34m\u001b[0m\u001b[0;34m\u001b[0m\u001b[0m\n\u001b[1;32m    452\u001b[0m                 \u001b[0mverbose\u001b[0m\u001b[0;34m=\u001b[0m\u001b[0mself\u001b[0m\u001b[0;34m.\u001b[0m\u001b[0mverbose\u001b[0m\u001b[0;34m,\u001b[0m\u001b[0;34m\u001b[0m\u001b[0;34m\u001b[0m\u001b[0m\n",
            "\u001b[0;32m/usr/local/lib/python3.8/dist-packages/joblib/parallel.py\u001b[0m in \u001b[0;36m__call__\u001b[0;34m(self, iterable)\u001b[0m\n\u001b[1;32m   1086\u001b[0m                 \u001b[0mself\u001b[0m\u001b[0;34m.\u001b[0m\u001b[0m_iterating\u001b[0m \u001b[0;34m=\u001b[0m \u001b[0mself\u001b[0m\u001b[0;34m.\u001b[0m\u001b[0m_original_iterator\u001b[0m \u001b[0;32mis\u001b[0m \u001b[0;32mnot\u001b[0m \u001b[0;32mNone\u001b[0m\u001b[0;34m\u001b[0m\u001b[0;34m\u001b[0m\u001b[0m\n\u001b[1;32m   1087\u001b[0m \u001b[0;34m\u001b[0m\u001b[0m\n\u001b[0;32m-> 1088\u001b[0;31m             \u001b[0;32mwhile\u001b[0m \u001b[0mself\u001b[0m\u001b[0;34m.\u001b[0m\u001b[0mdispatch_one_batch\u001b[0m\u001b[0;34m(\u001b[0m\u001b[0miterator\u001b[0m\u001b[0;34m)\u001b[0m\u001b[0;34m:\u001b[0m\u001b[0;34m\u001b[0m\u001b[0;34m\u001b[0m\u001b[0m\n\u001b[0m\u001b[1;32m   1089\u001b[0m                 \u001b[0;32mpass\u001b[0m\u001b[0;34m\u001b[0m\u001b[0;34m\u001b[0m\u001b[0m\n\u001b[1;32m   1090\u001b[0m \u001b[0;34m\u001b[0m\u001b[0m\n",
            "\u001b[0;32m/usr/local/lib/python3.8/dist-packages/joblib/parallel.py\u001b[0m in \u001b[0;36mdispatch_one_batch\u001b[0;34m(self, iterator)\u001b[0m\n\u001b[1;32m    899\u001b[0m                 \u001b[0;32mreturn\u001b[0m \u001b[0;32mFalse\u001b[0m\u001b[0;34m\u001b[0m\u001b[0;34m\u001b[0m\u001b[0m\n\u001b[1;32m    900\u001b[0m             \u001b[0;32melse\u001b[0m\u001b[0;34m:\u001b[0m\u001b[0;34m\u001b[0m\u001b[0;34m\u001b[0m\u001b[0m\n\u001b[0;32m--> 901\u001b[0;31m                 \u001b[0mself\u001b[0m\u001b[0;34m.\u001b[0m\u001b[0m_dispatch\u001b[0m\u001b[0;34m(\u001b[0m\u001b[0mtasks\u001b[0m\u001b[0;34m)\u001b[0m\u001b[0;34m\u001b[0m\u001b[0;34m\u001b[0m\u001b[0m\n\u001b[0m\u001b[1;32m    902\u001b[0m                 \u001b[0;32mreturn\u001b[0m \u001b[0;32mTrue\u001b[0m\u001b[0;34m\u001b[0m\u001b[0;34m\u001b[0m\u001b[0m\n\u001b[1;32m    903\u001b[0m \u001b[0;34m\u001b[0m\u001b[0m\n",
            "\u001b[0;32m/usr/local/lib/python3.8/dist-packages/joblib/parallel.py\u001b[0m in \u001b[0;36m_dispatch\u001b[0;34m(self, batch)\u001b[0m\n\u001b[1;32m    817\u001b[0m         \u001b[0;32mwith\u001b[0m \u001b[0mself\u001b[0m\u001b[0;34m.\u001b[0m\u001b[0m_lock\u001b[0m\u001b[0;34m:\u001b[0m\u001b[0;34m\u001b[0m\u001b[0;34m\u001b[0m\u001b[0m\n\u001b[1;32m    818\u001b[0m             \u001b[0mjob_idx\u001b[0m \u001b[0;34m=\u001b[0m \u001b[0mlen\u001b[0m\u001b[0;34m(\u001b[0m\u001b[0mself\u001b[0m\u001b[0;34m.\u001b[0m\u001b[0m_jobs\u001b[0m\u001b[0;34m)\u001b[0m\u001b[0;34m\u001b[0m\u001b[0;34m\u001b[0m\u001b[0m\n\u001b[0;32m--> 819\u001b[0;31m             \u001b[0mjob\u001b[0m \u001b[0;34m=\u001b[0m \u001b[0mself\u001b[0m\u001b[0;34m.\u001b[0m\u001b[0m_backend\u001b[0m\u001b[0;34m.\u001b[0m\u001b[0mapply_async\u001b[0m\u001b[0;34m(\u001b[0m\u001b[0mbatch\u001b[0m\u001b[0;34m,\u001b[0m \u001b[0mcallback\u001b[0m\u001b[0;34m=\u001b[0m\u001b[0mcb\u001b[0m\u001b[0;34m)\u001b[0m\u001b[0;34m\u001b[0m\u001b[0;34m\u001b[0m\u001b[0m\n\u001b[0m\u001b[1;32m    820\u001b[0m             \u001b[0;31m# A job can complete so quickly than its callback is\u001b[0m\u001b[0;34m\u001b[0m\u001b[0;34m\u001b[0m\u001b[0;34m\u001b[0m\u001b[0m\n\u001b[1;32m    821\u001b[0m             \u001b[0;31m# called before we get here, causing self._jobs to\u001b[0m\u001b[0;34m\u001b[0m\u001b[0;34m\u001b[0m\u001b[0;34m\u001b[0m\u001b[0m\n",
            "\u001b[0;32m/usr/local/lib/python3.8/dist-packages/joblib/_parallel_backends.py\u001b[0m in \u001b[0;36mapply_async\u001b[0;34m(self, func, callback)\u001b[0m\n\u001b[1;32m    206\u001b[0m     \u001b[0;32mdef\u001b[0m \u001b[0mapply_async\u001b[0m\u001b[0;34m(\u001b[0m\u001b[0mself\u001b[0m\u001b[0;34m,\u001b[0m \u001b[0mfunc\u001b[0m\u001b[0;34m,\u001b[0m \u001b[0mcallback\u001b[0m\u001b[0;34m=\u001b[0m\u001b[0;32mNone\u001b[0m\u001b[0;34m)\u001b[0m\u001b[0;34m:\u001b[0m\u001b[0;34m\u001b[0m\u001b[0;34m\u001b[0m\u001b[0m\n\u001b[1;32m    207\u001b[0m         \u001b[0;34m\"\"\"Schedule a func to be run\"\"\"\u001b[0m\u001b[0;34m\u001b[0m\u001b[0;34m\u001b[0m\u001b[0m\n\u001b[0;32m--> 208\u001b[0;31m         \u001b[0mresult\u001b[0m \u001b[0;34m=\u001b[0m \u001b[0mImmediateResult\u001b[0m\u001b[0;34m(\u001b[0m\u001b[0mfunc\u001b[0m\u001b[0;34m)\u001b[0m\u001b[0;34m\u001b[0m\u001b[0;34m\u001b[0m\u001b[0m\n\u001b[0m\u001b[1;32m    209\u001b[0m         \u001b[0;32mif\u001b[0m \u001b[0mcallback\u001b[0m\u001b[0;34m:\u001b[0m\u001b[0;34m\u001b[0m\u001b[0;34m\u001b[0m\u001b[0m\n\u001b[1;32m    210\u001b[0m             \u001b[0mcallback\u001b[0m\u001b[0;34m(\u001b[0m\u001b[0mresult\u001b[0m\u001b[0;34m)\u001b[0m\u001b[0;34m\u001b[0m\u001b[0;34m\u001b[0m\u001b[0m\n",
            "\u001b[0;32m/usr/local/lib/python3.8/dist-packages/joblib/_parallel_backends.py\u001b[0m in \u001b[0;36m__init__\u001b[0;34m(self, batch)\u001b[0m\n\u001b[1;32m    595\u001b[0m         \u001b[0;31m# Don't delay the application, to avoid keeping the input\u001b[0m\u001b[0;34m\u001b[0m\u001b[0;34m\u001b[0m\u001b[0;34m\u001b[0m\u001b[0m\n\u001b[1;32m    596\u001b[0m         \u001b[0;31m# arguments in memory\u001b[0m\u001b[0;34m\u001b[0m\u001b[0;34m\u001b[0m\u001b[0;34m\u001b[0m\u001b[0m\n\u001b[0;32m--> 597\u001b[0;31m         \u001b[0mself\u001b[0m\u001b[0;34m.\u001b[0m\u001b[0mresults\u001b[0m \u001b[0;34m=\u001b[0m \u001b[0mbatch\u001b[0m\u001b[0;34m(\u001b[0m\u001b[0;34m)\u001b[0m\u001b[0;34m\u001b[0m\u001b[0;34m\u001b[0m\u001b[0m\n\u001b[0m\u001b[1;32m    598\u001b[0m \u001b[0;34m\u001b[0m\u001b[0m\n\u001b[1;32m    599\u001b[0m     \u001b[0;32mdef\u001b[0m \u001b[0mget\u001b[0m\u001b[0;34m(\u001b[0m\u001b[0mself\u001b[0m\u001b[0;34m)\u001b[0m\u001b[0;34m:\u001b[0m\u001b[0;34m\u001b[0m\u001b[0;34m\u001b[0m\u001b[0m\n",
            "\u001b[0;32m/usr/local/lib/python3.8/dist-packages/joblib/parallel.py\u001b[0m in \u001b[0;36m__call__\u001b[0;34m(self)\u001b[0m\n\u001b[1;32m    286\u001b[0m         \u001b[0;31m# change the default number of processes to -1\u001b[0m\u001b[0;34m\u001b[0m\u001b[0;34m\u001b[0m\u001b[0;34m\u001b[0m\u001b[0m\n\u001b[1;32m    287\u001b[0m         \u001b[0;32mwith\u001b[0m \u001b[0mparallel_backend\u001b[0m\u001b[0;34m(\u001b[0m\u001b[0mself\u001b[0m\u001b[0;34m.\u001b[0m\u001b[0m_backend\u001b[0m\u001b[0;34m,\u001b[0m \u001b[0mn_jobs\u001b[0m\u001b[0;34m=\u001b[0m\u001b[0mself\u001b[0m\u001b[0;34m.\u001b[0m\u001b[0m_n_jobs\u001b[0m\u001b[0;34m)\u001b[0m\u001b[0;34m:\u001b[0m\u001b[0;34m\u001b[0m\u001b[0;34m\u001b[0m\u001b[0m\n\u001b[0;32m--> 288\u001b[0;31m             return [func(*args, **kwargs)\n\u001b[0m\u001b[1;32m    289\u001b[0m                     for func, args, kwargs in self.items]\n\u001b[1;32m    290\u001b[0m \u001b[0;34m\u001b[0m\u001b[0m\n",
            "\u001b[0;32m/usr/local/lib/python3.8/dist-packages/joblib/parallel.py\u001b[0m in \u001b[0;36m<listcomp>\u001b[0;34m(.0)\u001b[0m\n\u001b[1;32m    286\u001b[0m         \u001b[0;31m# change the default number of processes to -1\u001b[0m\u001b[0;34m\u001b[0m\u001b[0;34m\u001b[0m\u001b[0;34m\u001b[0m\u001b[0m\n\u001b[1;32m    287\u001b[0m         \u001b[0;32mwith\u001b[0m \u001b[0mparallel_backend\u001b[0m\u001b[0;34m(\u001b[0m\u001b[0mself\u001b[0m\u001b[0;34m.\u001b[0m\u001b[0m_backend\u001b[0m\u001b[0;34m,\u001b[0m \u001b[0mn_jobs\u001b[0m\u001b[0;34m=\u001b[0m\u001b[0mself\u001b[0m\u001b[0;34m.\u001b[0m\u001b[0m_n_jobs\u001b[0m\u001b[0;34m)\u001b[0m\u001b[0;34m:\u001b[0m\u001b[0;34m\u001b[0m\u001b[0;34m\u001b[0m\u001b[0m\n\u001b[0;32m--> 288\u001b[0;31m             return [func(*args, **kwargs)\n\u001b[0m\u001b[1;32m    289\u001b[0m                     for func, args, kwargs in self.items]\n\u001b[1;32m    290\u001b[0m \u001b[0;34m\u001b[0m\u001b[0m\n",
            "\u001b[0;32m/usr/local/lib/python3.8/dist-packages/sklearn/utils/fixes.py\u001b[0m in \u001b[0;36m__call__\u001b[0;34m(self, *args, **kwargs)\u001b[0m\n\u001b[1;32m    214\u001b[0m     \u001b[0;32mdef\u001b[0m \u001b[0m__call__\u001b[0m\u001b[0;34m(\u001b[0m\u001b[0mself\u001b[0m\u001b[0;34m,\u001b[0m \u001b[0;34m*\u001b[0m\u001b[0margs\u001b[0m\u001b[0;34m,\u001b[0m \u001b[0;34m**\u001b[0m\u001b[0mkwargs\u001b[0m\u001b[0;34m)\u001b[0m\u001b[0;34m:\u001b[0m\u001b[0;34m\u001b[0m\u001b[0;34m\u001b[0m\u001b[0m\n\u001b[1;32m    215\u001b[0m         \u001b[0;32mwith\u001b[0m \u001b[0mconfig_context\u001b[0m\u001b[0;34m(\u001b[0m\u001b[0;34m**\u001b[0m\u001b[0mself\u001b[0m\u001b[0;34m.\u001b[0m\u001b[0mconfig\u001b[0m\u001b[0;34m)\u001b[0m\u001b[0;34m:\u001b[0m\u001b[0;34m\u001b[0m\u001b[0;34m\u001b[0m\u001b[0m\n\u001b[0;32m--> 216\u001b[0;31m             \u001b[0;32mreturn\u001b[0m \u001b[0mself\u001b[0m\u001b[0;34m.\u001b[0m\u001b[0mfunction\u001b[0m\u001b[0;34m(\u001b[0m\u001b[0;34m*\u001b[0m\u001b[0margs\u001b[0m\u001b[0;34m,\u001b[0m \u001b[0;34m**\u001b[0m\u001b[0mkwargs\u001b[0m\u001b[0;34m)\u001b[0m\u001b[0;34m\u001b[0m\u001b[0;34m\u001b[0m\u001b[0m\n\u001b[0m\u001b[1;32m    217\u001b[0m \u001b[0;34m\u001b[0m\u001b[0m\n\u001b[1;32m    218\u001b[0m \u001b[0;34m\u001b[0m\u001b[0m\n",
            "\u001b[0;32m/usr/local/lib/python3.8/dist-packages/sklearn/ensemble/_forest.py\u001b[0m in \u001b[0;36m_parallel_build_trees\u001b[0;34m(tree, forest, X, y, sample_weight, tree_idx, n_trees, verbose, class_weight, n_samples_bootstrap)\u001b[0m\n\u001b[1;32m    183\u001b[0m             \u001b[0mcurr_sample_weight\u001b[0m \u001b[0;34m*=\u001b[0m \u001b[0mcompute_sample_weight\u001b[0m\u001b[0;34m(\u001b[0m\u001b[0;34m\"balanced\"\u001b[0m\u001b[0;34m,\u001b[0m \u001b[0my\u001b[0m\u001b[0;34m,\u001b[0m \u001b[0mindices\u001b[0m\u001b[0;34m=\u001b[0m\u001b[0mindices\u001b[0m\u001b[0;34m)\u001b[0m\u001b[0;34m\u001b[0m\u001b[0;34m\u001b[0m\u001b[0m\n\u001b[1;32m    184\u001b[0m \u001b[0;34m\u001b[0m\u001b[0m\n\u001b[0;32m--> 185\u001b[0;31m         \u001b[0mtree\u001b[0m\u001b[0;34m.\u001b[0m\u001b[0mfit\u001b[0m\u001b[0;34m(\u001b[0m\u001b[0mX\u001b[0m\u001b[0;34m,\u001b[0m \u001b[0my\u001b[0m\u001b[0;34m,\u001b[0m \u001b[0msample_weight\u001b[0m\u001b[0;34m=\u001b[0m\u001b[0mcurr_sample_weight\u001b[0m\u001b[0;34m,\u001b[0m \u001b[0mcheck_input\u001b[0m\u001b[0;34m=\u001b[0m\u001b[0;32mFalse\u001b[0m\u001b[0;34m)\u001b[0m\u001b[0;34m\u001b[0m\u001b[0;34m\u001b[0m\u001b[0m\n\u001b[0m\u001b[1;32m    186\u001b[0m     \u001b[0;32melse\u001b[0m\u001b[0;34m:\u001b[0m\u001b[0;34m\u001b[0m\u001b[0;34m\u001b[0m\u001b[0m\n\u001b[1;32m    187\u001b[0m         \u001b[0mtree\u001b[0m\u001b[0;34m.\u001b[0m\u001b[0mfit\u001b[0m\u001b[0;34m(\u001b[0m\u001b[0mX\u001b[0m\u001b[0;34m,\u001b[0m \u001b[0my\u001b[0m\u001b[0;34m,\u001b[0m \u001b[0msample_weight\u001b[0m\u001b[0;34m=\u001b[0m\u001b[0msample_weight\u001b[0m\u001b[0;34m,\u001b[0m \u001b[0mcheck_input\u001b[0m\u001b[0;34m=\u001b[0m\u001b[0;32mFalse\u001b[0m\u001b[0;34m)\u001b[0m\u001b[0;34m\u001b[0m\u001b[0;34m\u001b[0m\u001b[0m\n",
            "\u001b[0;32m/usr/local/lib/python3.8/dist-packages/sklearn/tree/_classes.py\u001b[0m in \u001b[0;36mfit\u001b[0;34m(self, X, y, sample_weight, check_input, X_idx_sorted)\u001b[0m\n\u001b[1;32m    935\u001b[0m         \"\"\"\n\u001b[1;32m    936\u001b[0m \u001b[0;34m\u001b[0m\u001b[0m\n\u001b[0;32m--> 937\u001b[0;31m         super().fit(\n\u001b[0m\u001b[1;32m    938\u001b[0m             \u001b[0mX\u001b[0m\u001b[0;34m,\u001b[0m\u001b[0;34m\u001b[0m\u001b[0;34m\u001b[0m\u001b[0m\n\u001b[1;32m    939\u001b[0m             \u001b[0my\u001b[0m\u001b[0;34m,\u001b[0m\u001b[0;34m\u001b[0m\u001b[0;34m\u001b[0m\u001b[0m\n",
            "\u001b[0;32m/usr/local/lib/python3.8/dist-packages/sklearn/tree/_classes.py\u001b[0m in \u001b[0;36mfit\u001b[0;34m(self, X, y, sample_weight, check_input, X_idx_sorted)\u001b[0m\n\u001b[1;32m    418\u001b[0m             )\n\u001b[1;32m    419\u001b[0m \u001b[0;34m\u001b[0m\u001b[0m\n\u001b[0;32m--> 420\u001b[0;31m         \u001b[0mbuilder\u001b[0m\u001b[0;34m.\u001b[0m\u001b[0mbuild\u001b[0m\u001b[0;34m(\u001b[0m\u001b[0mself\u001b[0m\u001b[0;34m.\u001b[0m\u001b[0mtree_\u001b[0m\u001b[0;34m,\u001b[0m \u001b[0mX\u001b[0m\u001b[0;34m,\u001b[0m \u001b[0my\u001b[0m\u001b[0;34m,\u001b[0m \u001b[0msample_weight\u001b[0m\u001b[0;34m)\u001b[0m\u001b[0;34m\u001b[0m\u001b[0;34m\u001b[0m\u001b[0m\n\u001b[0m\u001b[1;32m    421\u001b[0m \u001b[0;34m\u001b[0m\u001b[0m\n\u001b[1;32m    422\u001b[0m         \u001b[0;32mif\u001b[0m \u001b[0mself\u001b[0m\u001b[0;34m.\u001b[0m\u001b[0mn_outputs_\u001b[0m \u001b[0;34m==\u001b[0m \u001b[0;36m1\u001b[0m \u001b[0;32mand\u001b[0m \u001b[0mis_classifier\u001b[0m\u001b[0;34m(\u001b[0m\u001b[0mself\u001b[0m\u001b[0;34m)\u001b[0m\u001b[0;34m:\u001b[0m\u001b[0;34m\u001b[0m\u001b[0;34m\u001b[0m\u001b[0m\n",
            "\u001b[0;31mKeyboardInterrupt\u001b[0m: "
          ]
        }
      ],
      "source": [
        "rfc = RandomForestClassifier(n_estimators=100)\n",
        "rfc.fit(X_train, y_train)"
      ]
    },
    {
      "cell_type": "code",
      "execution_count": null,
      "metadata": {
        "id": "YrNRClolBcPt"
      },
      "outputs": [],
      "source": [
        "rfc_pred = rfc.predict(X_test)"
      ]
    },
    {
      "cell_type": "code",
      "execution_count": null,
      "metadata": {
        "colab": {
          "base_uri": "https://localhost:8080/"
        },
        "id": "GSzzqvpyBf-o",
        "outputId": "6b222f17-35ef-4f9d-f34d-3d9434b0bb6a"
      },
      "outputs": [
        {
          "name": "stdout",
          "output_type": "stream",
          "text": [
            "[[53979     1]\n",
            " [ 5991    29]]\n"
          ]
        }
      ],
      "source": [
        "print(confusion_matrix(y_test,rfc_pred))"
      ]
    },
    {
      "cell_type": "markdown",
      "metadata": {
        "id": "q7AzmfS1-gqM"
      },
      "source": [
        "The default cut-off value of 0.5 is causing very few cases to be classified as 1. "
      ]
    },
    {
      "cell_type": "code",
      "execution_count": null,
      "metadata": {
        "colab": {
          "base_uri": "https://localhost:8080/"
        },
        "id": "Z6nPdIppBzHQ",
        "outputId": "744902c0-daab-48a0-c0a6-2b41da2b1648"
      },
      "outputs": [
        {
          "name": "stdout",
          "output_type": "stream",
          "text": [
            "              precision    recall  f1-score   support\n",
            "\n",
            "           0       0.90      1.00      0.95     53980\n",
            "           1       0.97      0.00      0.01      6020\n",
            "\n",
            "    accuracy                           0.90     60000\n",
            "   macro avg       0.93      0.50      0.48     60000\n",
            "weighted avg       0.91      0.90      0.85     60000\n",
            "\n"
          ]
        }
      ],
      "source": [
        "print(classification_report(y_test,rfc_pred))"
      ]
    },
    {
      "cell_type": "markdown",
      "metadata": {
        "id": "KcFT-t9_TK-6"
      },
      "source": [
        "##2.5. Changing the cut-off in Random Forest"
      ]
    },
    {
      "cell_type": "code",
      "execution_count": null,
      "metadata": {
        "colab": {
          "base_uri": "https://localhost:8080/"
        },
        "id": "fmfIAh6tTPxL",
        "outputId": "9775d2e3-cc7b-4b5c-92ec-cbc1fb16361e"
      },
      "outputs": [
        {
          "name": "stdout",
          "output_type": "stream",
          "text": [
            "\n",
            "******** For i = 0.05 ******\n",
            "Our testing accuracy is 0.411\n",
            "[[18996 34984]\n",
            " [  356  5664]]\n",
            "              precision    recall  f1-score   support\n",
            "\n",
            "           0       0.98      0.35      0.52     53980\n",
            "           1       0.14      0.94      0.24      6020\n",
            "\n",
            "    accuracy                           0.41     60000\n",
            "   macro avg       0.56      0.65      0.38     60000\n",
            "weighted avg       0.90      0.41      0.49     60000\n",
            "\n",
            "\n",
            "******** For i = 0.1 ******\n",
            "Our testing accuracy is 0.6407333333333334\n",
            "[[33498 20482]\n",
            " [ 1074  4946]]\n",
            "              precision    recall  f1-score   support\n",
            "\n",
            "           0       0.97      0.62      0.76     53980\n",
            "           1       0.19      0.82      0.31      6020\n",
            "\n",
            "    accuracy                           0.64     60000\n",
            "   macro avg       0.58      0.72      0.54     60000\n",
            "weighted avg       0.89      0.64      0.71     60000\n",
            "\n",
            "\n",
            "******** For i = 0.15 ******\n",
            "Our testing accuracy is 0.7861166666666667\n",
            "[[43123 10857]\n",
            " [ 1976  4044]]\n",
            "              precision    recall  f1-score   support\n",
            "\n",
            "           0       0.96      0.80      0.87     53980\n",
            "           1       0.27      0.67      0.39      6020\n",
            "\n",
            "    accuracy                           0.79     60000\n",
            "   macro avg       0.61      0.74      0.63     60000\n",
            "weighted avg       0.89      0.79      0.82     60000\n",
            "\n",
            "\n",
            "******** For i = 0.2 ******\n",
            "Our testing accuracy is 0.8634833333333334\n",
            "[[48776  5204]\n",
            " [ 2987  3033]]\n",
            "              precision    recall  f1-score   support\n",
            "\n",
            "           0       0.94      0.90      0.92     53980\n",
            "           1       0.37      0.50      0.43      6020\n",
            "\n",
            "    accuracy                           0.86     60000\n",
            "   macro avg       0.66      0.70      0.67     60000\n",
            "weighted avg       0.88      0.86      0.87     60000\n",
            "\n",
            "\n",
            "******** For i = 0.25 ******\n",
            "Our testing accuracy is 0.8959833333333334\n",
            "[[51709  2271]\n",
            " [ 3970  2050]]\n",
            "              precision    recall  f1-score   support\n",
            "\n",
            "           0       0.93      0.96      0.94     53980\n",
            "           1       0.47      0.34      0.40      6020\n",
            "\n",
            "    accuracy                           0.90     60000\n",
            "   macro avg       0.70      0.65      0.67     60000\n",
            "weighted avg       0.88      0.90      0.89     60000\n",
            "\n",
            "\n",
            "******** For i = 0.3 ******\n",
            "Our testing accuracy is 0.9068666666666667\n",
            "[[53134   846]\n",
            " [ 4742  1278]]\n",
            "              precision    recall  f1-score   support\n",
            "\n",
            "           0       0.92      0.98      0.95     53980\n",
            "           1       0.60      0.21      0.31      6020\n",
            "\n",
            "    accuracy                           0.91     60000\n",
            "   macro avg       0.76      0.60      0.63     60000\n",
            "weighted avg       0.89      0.91      0.89     60000\n",
            "\n",
            "\n",
            "******** For i = 0.35 ******\n",
            "Our testing accuracy is 0.9067166666666666\n",
            "[[53706   274]\n",
            " [ 5323   697]]\n",
            "              precision    recall  f1-score   support\n",
            "\n",
            "           0       0.91      0.99      0.95     53980\n",
            "           1       0.72      0.12      0.20      6020\n",
            "\n",
            "    accuracy                           0.91     60000\n",
            "   macro avg       0.81      0.56      0.57     60000\n",
            "weighted avg       0.89      0.91      0.88     60000\n",
            "\n",
            "\n",
            "******** For i = 0.4 ******\n",
            "Our testing accuracy is 0.9038\n",
            "[[53918    62]\n",
            " [ 5710   310]]\n",
            "              precision    recall  f1-score   support\n",
            "\n",
            "           0       0.90      1.00      0.95     53980\n",
            "           1       0.83      0.05      0.10      6020\n",
            "\n",
            "    accuracy                           0.90     60000\n",
            "   macro avg       0.87      0.53      0.52     60000\n",
            "weighted avg       0.90      0.90      0.86     60000\n",
            "\n",
            "\n",
            "******** For i = 0.45 ******\n",
            "Our testing accuracy is 0.9014833333333333\n",
            "[[53970    10]\n",
            " [ 5901   119]]\n",
            "              precision    recall  f1-score   support\n",
            "\n",
            "           0       0.90      1.00      0.95     53980\n",
            "           1       0.92      0.02      0.04      6020\n",
            "\n",
            "    accuracy                           0.90     60000\n",
            "   macro avg       0.91      0.51      0.49     60000\n",
            "weighted avg       0.90      0.90      0.86     60000\n",
            "\n"
          ]
        }
      ],
      "source": [
        "pred_proba_df = pd.DataFrame(rfc.predict_proba(X_test))\n",
        "threshold_list = [0.05,0.1,0.15,0.2,0.25,0.3,0.35,0.4,0.45]\n",
        "for i in threshold_list:\n",
        "    print ('\\n******** For i = {} ******'.format(i))\n",
        "    y_test_pred = pred_proba_df.applymap(lambda x: 1 if x>i else 0)\n",
        "    test_accuracy = accuracy_score(y_test.values.reshape(y_test.values.size,1),\n",
        "                                   y_test_pred.iloc[:,1].values.reshape(y_test_pred.iloc[:,1].values.size,1))\n",
        "    print('Our testing accuracy is {}'.format(test_accuracy))\n",
        "\n",
        "    print(confusion_matrix(y_test.values.reshape(y_test.values.size,1),\n",
        "                           y_test_pred.iloc[:,1].values.reshape(y_test_pred.iloc[:,1].values.size,1)))\n",
        "    print(classification_report(y_test.values.reshape(y_test.values.size,1),\n",
        "                                y_test_pred.iloc[:,1].values.reshape(y_test_pred.iloc[:,1].values.size,1)))"
      ]
    },
    {
      "cell_type": "markdown",
      "metadata": {
        "id": "DLOenH-qYdEk"
      },
      "source": [
        "It is seen that the F1 score increases until cut-off = 0.2 and then decreases. Hence, a cut-off of 0.2 is chosen."
      ]
    },
    {
      "cell_type": "code",
      "execution_count": null,
      "metadata": {
        "id": "TbIgPMeJZceg"
      },
      "outputs": [],
      "source": [
        "submission_3 = rfc.predict_proba(pd.DataFrame(test,columns = features_log_reg_test))[:,1]"
      ]
    },
    {
      "cell_type": "code",
      "execution_count": null,
      "metadata": {
        "colab": {
          "base_uri": "https://localhost:8080/"
        },
        "id": "zTDlefYxZceg",
        "outputId": "703d5ad7-58b0-4231-c452-5777efd3da6c"
      },
      "outputs": [
        {
          "data": {
            "text/plain": [
              "array([0.18, 0.13, 0.27, ..., 0.03, 0.12, 0.12])"
            ]
          },
          "execution_count": 86,
          "metadata": {},
          "output_type": "execute_result"
        }
      ],
      "source": [
        "submission_3"
      ]
    },
    {
      "cell_type": "code",
      "execution_count": null,
      "metadata": {
        "id": "_zYoH9g8Zceh"
      },
      "outputs": [],
      "source": [
        "submission_3 = pd.concat([test['ID_code'], pd.Series(submission_3).rename('target')], axis=1)"
      ]
    },
    {
      "cell_type": "code",
      "execution_count": null,
      "metadata": {
        "id": "N_9-Yi8gZceh"
      },
      "outputs": [],
      "source": [
        "submission_3['target'] = submission_3['target'].apply(lambda x:1 if x>0.2 else 0)"
      ]
    },
    {
      "cell_type": "code",
      "execution_count": null,
      "metadata": {
        "id": "SXbLHc17LKlb"
      },
      "outputs": [],
      "source": [
        "submission_4 = rfc.predict_proba(pd.DataFrame(test,columns = features_log_reg_test))[:,1]\n",
        "submission_4 = pd.concat([test['ID_code'], pd.Series(submission_4).rename('target')], axis=1)\n",
        "submission_3['target'] = submission_3['target'].apply(lambda x:1 if x>0.2 else 0)"
      ]
    },
    {
      "cell_type": "markdown",
      "metadata": {
        "id": "VqjrBWURQDhP"
      },
      "source": [
        "##2.6. Random Forest Grid search with variables >= 0.02"
      ]
    },
    {
      "cell_type": "code",
      "execution_count": null,
      "metadata": {
        "id": "lRDQzImdQPJE"
      },
      "outputs": [],
      "source": [
        "X_train, X_test, y_train, y_test = train_test_split(train_2.drop('target',axis=1), \n",
        "                                                    train_2['target'], test_size=0.30, \n",
        "                                                    random_state=101)"
      ]
    },
    {
      "cell_type": "code",
      "execution_count": null,
      "metadata": {
        "id": "-n_1TYhZA7B3"
      },
      "outputs": [],
      "source": [
        "rfc2 = RandomForestClassifier(oob_score=True,random_state=42)"
      ]
    },
    {
      "cell_type": "code",
      "execution_count": null,
      "metadata": {
        "id": "QyDsDcvR6Pwr"
      },
      "outputs": [],
      "source": [
        "# skfcv = StratifiedKFold(n_splits = 10)"
      ]
    },
    {
      "cell_type": "code",
      "execution_count": null,
      "metadata": {
        "id": "eabHqqdGAv8T"
      },
      "outputs": [],
      "source": [
        "param_grid = { \n",
        "    'n_estimators' : [100,200],\n",
        "    'max_features': ['sqrt', 'log2'],\n",
        "    'max_depth' : [4,5,6,7,8]\n",
        "}"
      ]
    },
    {
      "cell_type": "code",
      "execution_count": null,
      "metadata": {
        "colab": {
          "base_uri": "https://localhost:8080/"
        },
        "id": "lldrNMUeQaBv",
        "outputId": "c553ba5e-3265-4075-f613-60d5d9802eb7"
      },
      "outputs": [
        {
          "name": "stderr",
          "output_type": "stream",
          "text": [
            "/usr/local/lib/python3.8/dist-packages/sklearn/model_selection/_search.py:969: UserWarning: One or more of the test scores are non-finite: [nan nan nan nan nan nan nan nan nan nan nan nan nan nan nan nan nan nan\n",
            " nan nan]\n",
            "  warnings.warn(\n"
          ]
        },
        {
          "data": {
            "text/plain": [
              "GridSearchCV(cv=StratifiedKFold(n_splits=10, random_state=None, shuffle=False),\n",
              "             estimator=RandomForestClassifier(oob_score=True, random_state=42),\n",
              "             n_jobs=-1,\n",
              "             param_grid={'max_depth': [4, 5, 6, 7, 8],\n",
              "                         'max_features': ['sqrt', 'log2'],\n",
              "                         'n_estimators': [100, 200]},\n",
              "             scoring=<function f1_score at 0x7f91e9969af0>)"
            ]
          },
          "execution_count": 21,
          "metadata": {},
          "output_type": "execute_result"
        }
      ],
      "source": [
        "CV_rfc = GridSearchCV(estimator=rfc2, param_grid=param_grid, n_jobs=-1,scoring = f1_score,verbose=3,refit=True) #cv= skfcv\n",
        "CV_rfc.fit(X_train, y_train)"
      ]
    },
    {
      "cell_type": "code",
      "execution_count": null,
      "metadata": {
        "colab": {
          "base_uri": "https://localhost:8080/"
        },
        "id": "9kSy3IjblMuj",
        "outputId": "bd018f42-7ed5-4845-ea03-16843fad500e"
      },
      "outputs": [
        {
          "data": {
            "text/plain": [
              "{'max_depth': 4, 'max_features': 'sqrt', 'n_estimators': 100}"
            ]
          },
          "execution_count": 22,
          "metadata": {},
          "output_type": "execute_result"
        }
      ],
      "source": [
        "CV_rfc.best_params_"
      ]
    },
    {
      "cell_type": "code",
      "execution_count": null,
      "metadata": {
        "colab": {
          "base_uri": "https://localhost:8080/"
        },
        "id": "4Rty-9rGQaBw",
        "outputId": "39ee673a-0798-4d26-dcff-e9800417cd8d"
      },
      "outputs": [
        {
          "name": "stdout",
          "output_type": "stream",
          "text": [
            "\n",
            "******** For i = 0.05 ******\n",
            "Our testing accuracy is 0.10033333333333333\n",
            "[[    0 53980]\n",
            " [    0  6020]]\n"
          ]
        },
        {
          "name": "stderr",
          "output_type": "stream",
          "text": [
            "/usr/local/lib/python3.8/dist-packages/sklearn/metrics/_classification.py:1318: UndefinedMetricWarning: Precision and F-score are ill-defined and being set to 0.0 in labels with no predicted samples. Use `zero_division` parameter to control this behavior.\n",
            "  _warn_prf(average, modifier, msg_start, len(result))\n",
            "/usr/local/lib/python3.8/dist-packages/sklearn/metrics/_classification.py:1318: UndefinedMetricWarning: Precision and F-score are ill-defined and being set to 0.0 in labels with no predicted samples. Use `zero_division` parameter to control this behavior.\n",
            "  _warn_prf(average, modifier, msg_start, len(result))\n",
            "/usr/local/lib/python3.8/dist-packages/sklearn/metrics/_classification.py:1318: UndefinedMetricWarning: Precision and F-score are ill-defined and being set to 0.0 in labels with no predicted samples. Use `zero_division` parameter to control this behavior.\n",
            "  _warn_prf(average, modifier, msg_start, len(result))\n"
          ]
        },
        {
          "name": "stdout",
          "output_type": "stream",
          "text": [
            "              precision    recall  f1-score   support\n",
            "\n",
            "           0       0.00      0.00      0.00     53980\n",
            "           1       0.10      1.00      0.18      6020\n",
            "\n",
            "    accuracy                           0.10     60000\n",
            "   macro avg       0.05      0.50      0.09     60000\n",
            "weighted avg       0.01      0.10      0.02     60000\n",
            "\n",
            "\n",
            "******** For i = 0.1 ******\n",
            "Our testing accuracy is 0.6336666666666667\n",
            "[[33639 20341]\n",
            " [ 1639  4381]]\n",
            "              precision    recall  f1-score   support\n",
            "\n",
            "           0       0.95      0.62      0.75     53980\n",
            "           1       0.18      0.73      0.29      6020\n",
            "\n",
            "    accuracy                           0.63     60000\n",
            "   macro avg       0.57      0.68      0.52     60000\n",
            "weighted avg       0.88      0.63      0.71     60000\n",
            "\n",
            "\n",
            "******** For i = 0.15 ******\n",
            "Our testing accuracy is 0.8965333333333333\n",
            "[[52912  1068]\n",
            " [ 5140   880]]\n",
            "              precision    recall  f1-score   support\n",
            "\n",
            "           0       0.91      0.98      0.94     53980\n",
            "           1       0.45      0.15      0.22      6020\n",
            "\n",
            "    accuracy                           0.90     60000\n",
            "   macro avg       0.68      0.56      0.58     60000\n",
            "weighted avg       0.87      0.90      0.87     60000\n",
            "\n",
            "\n",
            "******** For i = 0.2 ******\n",
            "Our testing accuracy is 0.9005666666666666\n",
            "[[53946    34]\n",
            " [ 5932    88]]\n",
            "              precision    recall  f1-score   support\n",
            "\n",
            "           0       0.90      1.00      0.95     53980\n",
            "           1       0.72      0.01      0.03      6020\n",
            "\n",
            "    accuracy                           0.90     60000\n",
            "   macro avg       0.81      0.51      0.49     60000\n",
            "weighted avg       0.88      0.90      0.86     60000\n",
            "\n",
            "\n",
            "******** For i = 0.25 ******\n",
            "Our testing accuracy is 0.89975\n",
            "[[53980     0]\n",
            " [ 6015     5]]\n",
            "              precision    recall  f1-score   support\n",
            "\n",
            "           0       0.90      1.00      0.95     53980\n",
            "           1       1.00      0.00      0.00      6020\n",
            "\n",
            "    accuracy                           0.90     60000\n",
            "   macro avg       0.95      0.50      0.47     60000\n",
            "weighted avg       0.91      0.90      0.85     60000\n",
            "\n",
            "\n",
            "******** For i = 0.3 ******\n",
            "Our testing accuracy is 0.8996666666666666\n",
            "[[53980     0]\n",
            " [ 6020     0]]\n",
            "              precision    recall  f1-score   support\n",
            "\n",
            "           0       0.90      1.00      0.95     53980\n",
            "           1       0.00      0.00      0.00      6020\n",
            "\n",
            "    accuracy                           0.90     60000\n",
            "   macro avg       0.45      0.50      0.47     60000\n",
            "weighted avg       0.81      0.90      0.85     60000\n",
            "\n",
            "\n",
            "******** For i = 0.35 ******\n",
            "Our testing accuracy is 0.8996666666666666\n",
            "[[53980     0]\n",
            " [ 6020     0]]\n"
          ]
        },
        {
          "name": "stderr",
          "output_type": "stream",
          "text": [
            "/usr/local/lib/python3.8/dist-packages/sklearn/metrics/_classification.py:1318: UndefinedMetricWarning: Precision and F-score are ill-defined and being set to 0.0 in labels with no predicted samples. Use `zero_division` parameter to control this behavior.\n",
            "  _warn_prf(average, modifier, msg_start, len(result))\n",
            "/usr/local/lib/python3.8/dist-packages/sklearn/metrics/_classification.py:1318: UndefinedMetricWarning: Precision and F-score are ill-defined and being set to 0.0 in labels with no predicted samples. Use `zero_division` parameter to control this behavior.\n",
            "  _warn_prf(average, modifier, msg_start, len(result))\n",
            "/usr/local/lib/python3.8/dist-packages/sklearn/metrics/_classification.py:1318: UndefinedMetricWarning: Precision and F-score are ill-defined and being set to 0.0 in labels with no predicted samples. Use `zero_division` parameter to control this behavior.\n",
            "  _warn_prf(average, modifier, msg_start, len(result))\n",
            "/usr/local/lib/python3.8/dist-packages/sklearn/metrics/_classification.py:1318: UndefinedMetricWarning: Precision and F-score are ill-defined and being set to 0.0 in labels with no predicted samples. Use `zero_division` parameter to control this behavior.\n",
            "  _warn_prf(average, modifier, msg_start, len(result))\n",
            "/usr/local/lib/python3.8/dist-packages/sklearn/metrics/_classification.py:1318: UndefinedMetricWarning: Precision and F-score are ill-defined and being set to 0.0 in labels with no predicted samples. Use `zero_division` parameter to control this behavior.\n",
            "  _warn_prf(average, modifier, msg_start, len(result))\n",
            "/usr/local/lib/python3.8/dist-packages/sklearn/metrics/_classification.py:1318: UndefinedMetricWarning: Precision and F-score are ill-defined and being set to 0.0 in labels with no predicted samples. Use `zero_division` parameter to control this behavior.\n",
            "  _warn_prf(average, modifier, msg_start, len(result))\n",
            "/usr/local/lib/python3.8/dist-packages/sklearn/metrics/_classification.py:1318: UndefinedMetricWarning: Precision and F-score are ill-defined and being set to 0.0 in labels with no predicted samples. Use `zero_division` parameter to control this behavior.\n",
            "  _warn_prf(average, modifier, msg_start, len(result))\n",
            "/usr/local/lib/python3.8/dist-packages/sklearn/metrics/_classification.py:1318: UndefinedMetricWarning: Precision and F-score are ill-defined and being set to 0.0 in labels with no predicted samples. Use `zero_division` parameter to control this behavior.\n",
            "  _warn_prf(average, modifier, msg_start, len(result))\n",
            "/usr/local/lib/python3.8/dist-packages/sklearn/metrics/_classification.py:1318: UndefinedMetricWarning: Precision and F-score are ill-defined and being set to 0.0 in labels with no predicted samples. Use `zero_division` parameter to control this behavior.\n",
            "  _warn_prf(average, modifier, msg_start, len(result))\n"
          ]
        },
        {
          "name": "stdout",
          "output_type": "stream",
          "text": [
            "              precision    recall  f1-score   support\n",
            "\n",
            "           0       0.90      1.00      0.95     53980\n",
            "           1       0.00      0.00      0.00      6020\n",
            "\n",
            "    accuracy                           0.90     60000\n",
            "   macro avg       0.45      0.50      0.47     60000\n",
            "weighted avg       0.81      0.90      0.85     60000\n",
            "\n",
            "\n",
            "******** For i = 0.4 ******\n",
            "Our testing accuracy is 0.8996666666666666\n",
            "[[53980     0]\n",
            " [ 6020     0]]\n",
            "              precision    recall  f1-score   support\n",
            "\n",
            "           0       0.90      1.00      0.95     53980\n",
            "           1       0.00      0.00      0.00      6020\n",
            "\n",
            "    accuracy                           0.90     60000\n",
            "   macro avg       0.45      0.50      0.47     60000\n",
            "weighted avg       0.81      0.90      0.85     60000\n",
            "\n",
            "\n",
            "******** For i = 0.45 ******\n",
            "Our testing accuracy is 0.8996666666666666\n",
            "[[53980     0]\n",
            " [ 6020     0]]\n",
            "              precision    recall  f1-score   support\n",
            "\n",
            "           0       0.90      1.00      0.95     53980\n",
            "           1       0.00      0.00      0.00      6020\n",
            "\n",
            "    accuracy                           0.90     60000\n",
            "   macro avg       0.45      0.50      0.47     60000\n",
            "weighted avg       0.81      0.90      0.85     60000\n",
            "\n"
          ]
        },
        {
          "name": "stderr",
          "output_type": "stream",
          "text": [
            "/usr/local/lib/python3.8/dist-packages/sklearn/metrics/_classification.py:1318: UndefinedMetricWarning: Precision and F-score are ill-defined and being set to 0.0 in labels with no predicted samples. Use `zero_division` parameter to control this behavior.\n",
            "  _warn_prf(average, modifier, msg_start, len(result))\n",
            "/usr/local/lib/python3.8/dist-packages/sklearn/metrics/_classification.py:1318: UndefinedMetricWarning: Precision and F-score are ill-defined and being set to 0.0 in labels with no predicted samples. Use `zero_division` parameter to control this behavior.\n",
            "  _warn_prf(average, modifier, msg_start, len(result))\n",
            "/usr/local/lib/python3.8/dist-packages/sklearn/metrics/_classification.py:1318: UndefinedMetricWarning: Precision and F-score are ill-defined and being set to 0.0 in labels with no predicted samples. Use `zero_division` parameter to control this behavior.\n",
            "  _warn_prf(average, modifier, msg_start, len(result))\n"
          ]
        }
      ],
      "source": [
        "pred_proba_df = pd.DataFrame(CV_rfc.predict_proba(X_test))\n",
        "threshold_list = [0.05,0.1,0.15,0.2,0.25,0.3,0.35,0.4,0.45]\n",
        "for i in threshold_list:\n",
        "    print ('\\n******** For i = {} ******'.format(i))\n",
        "    y_test_pred = pred_proba_df.applymap(lambda x: 1 if x>i else 0)\n",
        "    test_accuracy = accuracy_score(y_test.values.reshape(y_test.values.size,1),\n",
        "                                   y_test_pred.iloc[:,1].values.reshape(y_test_pred.iloc[:,1].values.size,1))\n",
        "    print('Our testing accuracy is {}'.format(test_accuracy))\n",
        "\n",
        "    print(confusion_matrix(y_test.values.reshape(y_test.values.size,1),\n",
        "                           y_test_pred.iloc[:,1].values.reshape(y_test_pred.iloc[:,1].values.size,1)))\n",
        "    print(classification_report(y_test.values.reshape(y_test.values.size,1),\n",
        "                                y_test_pred.iloc[:,1].values.reshape(y_test_pred.iloc[:,1].values.size,1)))"
      ]
    },
    {
      "cell_type": "code",
      "execution_count": null,
      "metadata": {
        "id": "nunwgE3sTjQo"
      },
      "outputs": [],
      "source": [
        "submission_4 = CV_rfc.predict_proba(pd.DataFrame(test,columns = features_log_reg[:-1]))[:,1]"
      ]
    },
    {
      "cell_type": "code",
      "execution_count": null,
      "metadata": {
        "id": "6vgySngFDaSC"
      },
      "outputs": [],
      "source": [
        "submission_4 = pd.concat([test['ID_code'], pd.Series(submission_4).rename('target')], axis=1)"
      ]
    },
    {
      "cell_type": "code",
      "execution_count": null,
      "metadata": {
        "id": "zzB04IJKDaSD"
      },
      "outputs": [],
      "source": [
        "submission_4['target'] = submission_4['target'].apply(lambda x:1 if x>0.1 else 0)"
      ]
    },
    {
      "cell_type": "code",
      "execution_count": null,
      "metadata": {
        "id": "OaetSCo3D2TJ"
      },
      "outputs": [],
      "source": [
        "submission_4.to_csv('/content/drive/MyDrive/Colab Notebooks/Kaggle/Santander/submission4.csv',index=False)"
      ]
    },
    {
      "cell_type": "markdown",
      "metadata": {
        "id": "l7a5-vtJA6II"
      },
      "source": [
        "##2.7. Random Forest with top 65 variables (scaled)"
      ]
    },
    {
      "cell_type": "code",
      "execution_count": null,
      "metadata": {
        "id": "t4OHrcXwA4hU"
      },
      "outputs": [],
      "source": [
        "scaler = StandardScaler()\n",
        "rfc = RandomForestClassifier(n_estimators=100)"
      ]
    },
    {
      "cell_type": "code",
      "execution_count": null,
      "metadata": {
        "id": "0yEXBxxvW8nN"
      },
      "outputs": [],
      "source": [
        "X_train, X_test, y_train, y_test = train_test_split(train_2.drop('target',axis=1), \n",
        "                                                    train_2['target'], test_size=0.30, \n",
        "                                                    random_state=101)"
      ]
    },
    {
      "cell_type": "code",
      "execution_count": null,
      "metadata": {
        "id": "2lwNqp_GZxrD"
      },
      "outputs": [],
      "source": [
        "pipeline = Pipeline([\n",
        "    (\"Z Scaling\", scaler),\n",
        "    (\"Random Forest\", rfc)\n",
        "])"
      ]
    },
    {
      "cell_type": "code",
      "execution_count": null,
      "metadata": {
        "colab": {
          "base_uri": "https://localhost:8080/"
        },
        "id": "R4XfOacVXIGo",
        "outputId": "bfa32be1-5f41-4049-bbb2-021bb030db50"
      },
      "outputs": [
        {
          "data": {
            "text/plain": [
              "Pipeline(steps=[('Z Scaling', StandardScaler()),\n",
              "                ('Random Forest', RandomForestClassifier())])"
            ]
          },
          "execution_count": 36,
          "metadata": {},
          "output_type": "execute_result"
        }
      ],
      "source": [
        "pipeline.fit(X_train, y_train)"
      ]
    },
    {
      "cell_type": "code",
      "execution_count": null,
      "metadata": {
        "colab": {
          "base_uri": "https://localhost:8080/"
        },
        "id": "OLd_04x9XcHD",
        "outputId": "e73bc5e4-48d6-4a49-bbe2-96f0d3e36304"
      },
      "outputs": [
        {
          "name": "stdout",
          "output_type": "stream",
          "text": [
            "\n",
            "******** For i = 0.05 ******\n",
            "Our testing accuracy is 0.4121666666666667\n",
            "[[19053 34927]\n",
            " [  343  5677]]\n",
            "              precision    recall  f1-score   support\n",
            "\n",
            "           0       0.98      0.35      0.52     53980\n",
            "           1       0.14      0.94      0.24      6020\n",
            "\n",
            "    accuracy                           0.41     60000\n",
            "   macro avg       0.56      0.65      0.38     60000\n",
            "weighted avg       0.90      0.41      0.49     60000\n",
            "\n",
            "\n",
            "******** For i = 0.1 ******\n",
            "Our testing accuracy is 0.64275\n",
            "[[33613 20367]\n",
            " [ 1068  4952]]\n",
            "              precision    recall  f1-score   support\n",
            "\n",
            "           0       0.97      0.62      0.76     53980\n",
            "           1       0.20      0.82      0.32      6020\n",
            "\n",
            "    accuracy                           0.64     60000\n",
            "   macro avg       0.58      0.72      0.54     60000\n",
            "weighted avg       0.89      0.64      0.71     60000\n",
            "\n",
            "\n",
            "******** For i = 0.15 ******\n",
            "Our testing accuracy is 0.7867833333333333\n",
            "[[43146 10834]\n",
            " [ 1959  4061]]\n",
            "              precision    recall  f1-score   support\n",
            "\n",
            "           0       0.96      0.80      0.87     53980\n",
            "           1       0.27      0.67      0.39      6020\n",
            "\n",
            "    accuracy                           0.79     60000\n",
            "   macro avg       0.61      0.74      0.63     60000\n",
            "weighted avg       0.89      0.79      0.82     60000\n",
            "\n",
            "\n",
            "******** For i = 0.2 ******\n",
            "Our testing accuracy is 0.8639\n",
            "[[48846  5134]\n",
            " [ 3032  2988]]\n",
            "              precision    recall  f1-score   support\n",
            "\n",
            "           0       0.94      0.90      0.92     53980\n",
            "           1       0.37      0.50      0.42      6020\n",
            "\n",
            "    accuracy                           0.86     60000\n",
            "   macro avg       0.65      0.70      0.67     60000\n",
            "weighted avg       0.88      0.86      0.87     60000\n",
            "\n",
            "\n",
            "******** For i = 0.25 ******\n",
            "Our testing accuracy is 0.8961166666666667\n",
            "[[51775  2205]\n",
            " [ 4028  1992]]\n",
            "              precision    recall  f1-score   support\n",
            "\n",
            "           0       0.93      0.96      0.94     53980\n",
            "           1       0.47      0.33      0.39      6020\n",
            "\n",
            "    accuracy                           0.90     60000\n",
            "   macro avg       0.70      0.65      0.67     60000\n",
            "weighted avg       0.88      0.90      0.89     60000\n",
            "\n",
            "\n",
            "******** For i = 0.3 ******\n",
            "Our testing accuracy is 0.9065833333333333\n",
            "[[53171   809]\n",
            " [ 4796  1224]]\n",
            "              precision    recall  f1-score   support\n",
            "\n",
            "           0       0.92      0.99      0.95     53980\n",
            "           1       0.60      0.20      0.30      6020\n",
            "\n",
            "    accuracy                           0.91     60000\n",
            "   macro avg       0.76      0.59      0.63     60000\n",
            "weighted avg       0.89      0.91      0.89     60000\n",
            "\n",
            "\n",
            "******** For i = 0.35 ******\n",
            "Our testing accuracy is 0.9064166666666666\n",
            "[[53726   254]\n",
            " [ 5361   659]]\n",
            "              precision    recall  f1-score   support\n",
            "\n",
            "           0       0.91      1.00      0.95     53980\n",
            "           1       0.72      0.11      0.19      6020\n",
            "\n",
            "    accuracy                           0.91     60000\n",
            "   macro avg       0.82      0.55      0.57     60000\n",
            "weighted avg       0.89      0.91      0.87     60000\n",
            "\n",
            "\n",
            "******** For i = 0.4 ******\n",
            "Our testing accuracy is 0.9037666666666667\n",
            "[[53906    74]\n",
            " [ 5700   320]]\n",
            "              precision    recall  f1-score   support\n",
            "\n",
            "           0       0.90      1.00      0.95     53980\n",
            "           1       0.81      0.05      0.10      6020\n",
            "\n",
            "    accuracy                           0.90     60000\n",
            "   macro avg       0.86      0.53      0.52     60000\n",
            "weighted avg       0.90      0.90      0.86     60000\n",
            "\n",
            "\n",
            "******** For i = 0.45 ******\n",
            "Our testing accuracy is 0.9011666666666667\n",
            "[[53963    17]\n",
            " [ 5913   107]]\n",
            "              precision    recall  f1-score   support\n",
            "\n",
            "           0       0.90      1.00      0.95     53980\n",
            "           1       0.86      0.02      0.03      6020\n",
            "\n",
            "    accuracy                           0.90     60000\n",
            "   macro avg       0.88      0.51      0.49     60000\n",
            "weighted avg       0.90      0.90      0.86     60000\n",
            "\n",
            "\n",
            "******** For i = 0.5 ******\n",
            "Our testing accuracy is 0.9001833333333333\n",
            "[[53979     1]\n",
            " [ 5988    32]]\n",
            "              precision    recall  f1-score   support\n",
            "\n",
            "           0       0.90      1.00      0.95     53980\n",
            "           1       0.97      0.01      0.01      6020\n",
            "\n",
            "    accuracy                           0.90     60000\n",
            "   macro avg       0.93      0.50      0.48     60000\n",
            "weighted avg       0.91      0.90      0.85     60000\n",
            "\n"
          ]
        }
      ],
      "source": [
        "pred_proba_df = pd.DataFrame(pipeline.predict_proba(X_test))\n",
        "threshold_list = [0.05,0.1,0.15,0.2,0.25,0.3,0.35,0.4,0.45,0.5]\n",
        "for i in threshold_list:\n",
        "    print ('\\n******** For i = {} ******'.format(i))\n",
        "    y_test_pred = pred_proba_df.applymap(lambda x: 1 if x>i else 0)\n",
        "    test_accuracy = accuracy_score(y_test.values.reshape(y_test.values.size,1),\n",
        "                                   y_test_pred.iloc[:,1].values.reshape(y_test_pred.iloc[:,1].values.size,1))\n",
        "    print('Our testing accuracy is {}'.format(test_accuracy))\n",
        "\n",
        "    print(confusion_matrix(y_test.values.reshape(y_test.values.size,1),\n",
        "                           y_test_pred.iloc[:,1].values.reshape(y_test_pred.iloc[:,1].values.size,1)))\n",
        "    print(classification_report(y_test.values.reshape(y_test.values.size,1),\n",
        "                                y_test_pred.iloc[:,1].values.reshape(y_test_pred.iloc[:,1].values.size,1)))"
      ]
    },
    {
      "cell_type": "markdown",
      "metadata": {
        "id": "JvcfSM8pgAY5"
      },
      "source": [
        "It is observed that the performance did not change after the variable scaling."
      ]
    },
    {
      "cell_type": "markdown",
      "metadata": {
        "id": "5RlhfDsEiaEl"
      },
      "source": [
        "##2.8. SVM with variables >=0.02 IV"
      ]
    },
    {
      "cell_type": "code",
      "source": [
        "model = SVC()"
      ],
      "metadata": {
        "id": "vZ2s4PM9D6JK"
      },
      "execution_count": null,
      "outputs": []
    },
    {
      "cell_type": "code",
      "execution_count": null,
      "metadata": {
        "id": "owotpbJqi_7i",
        "colab": {
          "base_uri": "https://localhost:8080/"
        },
        "outputId": "2ab763a5-ff99-493e-c2de-bcd64800d421"
      },
      "outputs": [
        {
          "output_type": "execute_result",
          "data": {
            "text/plain": [
              "SVC()"
            ]
          },
          "metadata": {},
          "execution_count": 13
        }
      ],
      "source": [
        "model.fit(X_train,y_train)"
      ]
    },
    {
      "cell_type": "code",
      "source": [
        "predictions = model.predict(X_test)"
      ],
      "metadata": {
        "id": "r2Jys96IMkal"
      },
      "execution_count": null,
      "outputs": []
    },
    {
      "cell_type": "code",
      "source": [
        "print(classification_report(y_test,predictions))"
      ],
      "metadata": {
        "colab": {
          "base_uri": "https://localhost:8080/"
        },
        "id": "5XaZN1vNMsuW",
        "outputId": "bb9da1bc-0493-48cb-ff74-f4c30f564950"
      },
      "execution_count": null,
      "outputs": [
        {
          "output_type": "stream",
          "name": "stdout",
          "text": [
            "              precision    recall  f1-score   support\n",
            "\n",
            "           0       0.90      1.00      0.95     53980\n",
            "           1       0.00      0.00      0.00      6020\n",
            "\n",
            "    accuracy                           0.90     60000\n",
            "   macro avg       0.45      0.50      0.47     60000\n",
            "weighted avg       0.81      0.90      0.85     60000\n",
            "\n"
          ]
        },
        {
          "output_type": "stream",
          "name": "stderr",
          "text": [
            "/usr/local/lib/python3.8/dist-packages/sklearn/metrics/_classification.py:1318: UndefinedMetricWarning: Precision and F-score are ill-defined and being set to 0.0 in labels with no predicted samples. Use `zero_division` parameter to control this behavior.\n",
            "  _warn_prf(average, modifier, msg_start, len(result))\n",
            "/usr/local/lib/python3.8/dist-packages/sklearn/metrics/_classification.py:1318: UndefinedMetricWarning: Precision and F-score are ill-defined and being set to 0.0 in labels with no predicted samples. Use `zero_division` parameter to control this behavior.\n",
            "  _warn_prf(average, modifier, msg_start, len(result))\n",
            "/usr/local/lib/python3.8/dist-packages/sklearn/metrics/_classification.py:1318: UndefinedMetricWarning: Precision and F-score are ill-defined and being set to 0.0 in labels with no predicted samples. Use `zero_division` parameter to control this behavior.\n",
            "  _warn_prf(average, modifier, msg_start, len(result))\n"
          ]
        }
      ]
    },
    {
      "cell_type": "code",
      "source": [
        "print(confusion_matrix(y_test,predictions))"
      ],
      "metadata": {
        "colab": {
          "base_uri": "https://localhost:8080/"
        },
        "id": "d6XTZKQdOAy4",
        "outputId": "52fcfb46-2a87-4f5e-b45e-39fb09250a79"
      },
      "execution_count": null,
      "outputs": [
        {
          "output_type": "stream",
          "name": "stdout",
          "text": [
            "[[53980     0]\n",
            " [ 6020     0]]\n"
          ]
        }
      ]
    },
    {
      "cell_type": "markdown",
      "source": [
        "##2.9. SVM with scaled variables with IV>=0.02"
      ],
      "metadata": {
        "id": "zdwPzNGfOl8x"
      }
    },
    {
      "cell_type": "code",
      "source": [
        "scaler = StandardScaler()\n",
        "scaler.fit(X_train)"
      ],
      "metadata": {
        "colab": {
          "base_uri": "https://localhost:8080/"
        },
        "id": "5lp5Wa2BOuL-",
        "outputId": "66c4d6ca-bb88-42e0-dfc1-8b75cd071f54"
      },
      "execution_count": null,
      "outputs": [
        {
          "output_type": "execute_result",
          "data": {
            "text/plain": [
              "StandardScaler()"
            ]
          },
          "metadata": {},
          "execution_count": 18
        }
      ]
    },
    {
      "cell_type": "code",
      "source": [
        "scaled_data = scaler.transform(X_train)"
      ],
      "metadata": {
        "id": "jPBXMHHVO9mp"
      },
      "execution_count": null,
      "outputs": []
    },
    {
      "cell_type": "code",
      "source": [
        "model = SVC()"
      ],
      "metadata": {
        "id": "QDr0dyK7PLLb"
      },
      "execution_count": null,
      "outputs": []
    },
    {
      "cell_type": "code",
      "execution_count": null,
      "metadata": {
        "colab": {
          "base_uri": "https://localhost:8080/"
        },
        "outputId": "3a2adf91-0259-4713-adb7-95bf7deddcc0",
        "id": "5UV6CGDUPLLb"
      },
      "outputs": [
        {
          "output_type": "execute_result",
          "data": {
            "text/plain": [
              "SVC()"
            ]
          },
          "metadata": {},
          "execution_count": 21
        }
      ],
      "source": [
        "model.fit(scaled_data,y_train)"
      ]
    },
    {
      "cell_type": "code",
      "source": [
        "scaled_test = scaler.transform(X_test)"
      ],
      "metadata": {
        "id": "TKWm-0h7PXZx"
      },
      "execution_count": null,
      "outputs": []
    },
    {
      "cell_type": "code",
      "source": [
        "predictions = model.predict(scaled_test)"
      ],
      "metadata": {
        "id": "sumVPBLPPLLc"
      },
      "execution_count": null,
      "outputs": []
    },
    {
      "cell_type": "code",
      "source": [
        "print(classification_report(y_test,predictions))"
      ],
      "metadata": {
        "colab": {
          "base_uri": "https://localhost:8080/"
        },
        "outputId": "36082ea4-7641-4d63-d1c0-cdebbec77f1b",
        "id": "DJAWpNWYPLLc"
      },
      "execution_count": null,
      "outputs": [
        {
          "output_type": "stream",
          "name": "stdout",
          "text": [
            "              precision    recall  f1-score   support\n",
            "\n",
            "           0       0.91      1.00      0.95     53980\n",
            "           1       0.77      0.10      0.18      6020\n",
            "\n",
            "    accuracy                           0.91     60000\n",
            "   macro avg       0.84      0.55      0.57     60000\n",
            "weighted avg       0.89      0.91      0.87     60000\n",
            "\n"
          ]
        }
      ]
    },
    {
      "cell_type": "code",
      "source": [
        "print(confusion_matrix(y_test,predictions))"
      ],
      "metadata": {
        "colab": {
          "base_uri": "https://localhost:8080/"
        },
        "outputId": "916af96e-fb2c-4b11-9470-cc2ea500487c",
        "id": "rFHjaE2FPLLc"
      },
      "execution_count": null,
      "outputs": [
        {
          "output_type": "stream",
          "name": "stdout",
          "text": [
            "[[53791   189]\n",
            " [ 5394   626]]\n"
          ]
        }
      ]
    }
  ],
  "metadata": {
    "colab": {
      "collapsed_sections": [
        "9rz8Ybsb_NAi",
        "0gcl3eTH3QBQ",
        "RC-Uh--IxlRE",
        "fBWbTB_1QSum",
        "uKUOczZpAYOj",
        "KcFT-t9_TK-6",
        "VqjrBWURQDhP",
        "l7a5-vtJA6II",
        "5RlhfDsEiaEl",
        "zdwPzNGfOl8x"
      ],
      "provenance": [],
      "mount_file_id": "1jR1ZA4NHuzy0_UYxkR0ZSyB8XC7qKdOj",
      "authorship_tag": "ABX9TyPkQGOrh60/u9iAU+FfNIuj"
    },
    "kernelspec": {
      "display_name": "Python 3",
      "name": "python3"
    },
    "language_info": {
      "name": "python"
    }
  },
  "nbformat": 4,
  "nbformat_minor": 0
}